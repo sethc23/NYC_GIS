{
 "cells": [
  {
   "cell_type": "raw",
   "metadata": {
    "code_folding": []
   },
   "source": [
    "<div id=\"toc-wrapper\">\n",
    "<div style=\"font-size: 18px; font-weight: bold;\">Table of Contents</div>\n",
    "<div id=\"toc\" style=\"max-height: 536px;\">\n",
    "<ol><li><a href=\"#Libraries\">Libraries</a></li><li><a href=\"#PG-Admin-Functions\">PG Admin Functions</a></li><ol ><li><a href=\"#Triggers-&amp;-Trigger-Functions\">Triggers &amp; Trigger Functions</a></li></ol><li><a href=\"#PG-Custom-Geo-Functions\">PG Custom Geo-Functions</a></li><li><a href=\"#TABLES:\">TABLES:</a></li><ol><li><a href=\"#NYC-Tables\">NYC Tables</a></li><li><a href=\"#Other-Tables\">Other Tables</a></li></ol><li><a href=\"#Custom-PostGIS-Functions\">Custom PostGIS Functions</a></li><li><a href=\"#Useful-SQL/PG-SQL-Queries\">Useful SQL/PG SQL Queries</a></li><li><a href=\"#Useful-PostGIS-Functions:\">Useful PostGIS Functions:</a></li><ol><li><a href=\"#Conversion-Functions\">Conversion Functions</a></li><li><a href=\"./#Geometry-Constructors\">Geometry Constructors</a></li><li><a href=\"#Geometry-Editors\">Geometry Editors</a></li><li><a href=\"#Geometry-Outputs\">Geometry Outputs</a></li><li><a href=\"#Operators\">Operators</a></li><li><a href=\"#Relationships-&amp;-Measurements\">Relationships &amp; Measurements</a></li><li><a href=\"#Geometry-Processing\">Geometry Processing</a></li></ol></ol>\n",
    "</div>\n",
    "</div>"
   ]
  },
  {
   "cell_type": "markdown",
   "metadata": {
    "code_folding": []
   },
   "source": [
    "# Libraries"
   ]
  },
  {
   "cell_type": "code",
   "execution_count": null,
   "metadata": {
    "code_folding": [
     0
    ],
    "collapsed": true
   },
   "outputs": [],
   "source": [
    "# IPython Options\n",
    "# %matplotlib inline\n",
    "# %qtconsole\n",
    "%pdb on"
   ]
  },
  {
   "cell_type": "code",
   "execution_count": null,
   "metadata": {
    "code_folding": [
     0
    ],
    "collapsed": true
   },
   "outputs": [],
   "source": [
    "# Change Encoding\n",
    "import sys\n",
    "import codecs\n",
    "reload(sys)\n",
    "#sys.setdefaultencoding('UTF8')\n",
    "sys.setdefaultencoding('ascii')"
   ]
  },
  {
   "cell_type": "code",
   "execution_count": 14,
   "metadata": {
    "code_folding": [
     0
    ],
    "collapsed": false
   },
   "outputs": [],
   "source": [
    "# Load Libraries\n",
    "from sys import path as py_path\n",
    "from f_postgres import pgSQL\n",
    "PG = pgSQL()\n",
    "T = PG.T\n",
    "\n",
    "def to_sql(cmd):\n",
    "    T.conn.set_isolation_level(0)\n",
    "    T.cur.execute(cmd)\n",
    "\n",
    "%reload_ext sql\n",
    "%sql postgresql://$T.DB_USER:$T.DB_PW@$T.DB_HOST:$T.DB_PORT/$T.DB_NAME\n",
    "%config SqlMagic.feedback=True\n",
    "%config SqlMagic.autopandas=True\n",
    "%config SqlMagic.short_errors=False"
   ]
  },
  {
   "cell_type": "markdown",
   "metadata": {},
   "source": [
    "# PG Admin Functions"
   ]
  },
  {
   "cell_type": "code",
   "execution_count": null,
   "metadata": {
    "code_folding": [],
    "collapsed": false
   },
   "outputs": [],
   "source": [
    "# get all tables from a database\n",
    "\n",
    "database = raw_input('database?\\t')\n",
    "qry=\"\"\"\n",
    "select * from information_schema.tables \n",
    "WHERE table_schema='public'\n",
    "order by table_name\n",
    "\"\"\"\n",
    "%sql postgres@$database $qry"
   ]
  },
  {
   "cell_type": "code",
   "execution_count": null,
   "metadata": {
    "code_folding": [],
    "collapsed": true
   },
   "outputs": [],
   "source": [
    "# get table columns/info\n",
    "\n",
    "table = raw_input('table?\\t')\n",
    "qry = \"\"\"   select column_name, data_type, character_maximum_length \n",
    "            from INFORMATION_SCHEMA.COLUMNS \n",
    "            where table_name = '%s'\"\"\"%table\n",
    "%sql postgres@$T.DB_NAME $qry"
   ]
  },
  {
   "cell_type": "code",
   "execution_count": null,
   "metadata": {
    "code_folding": [],
    "collapsed": true
   },
   "outputs": [],
   "source": [
    "# get trigger information\n",
    "\n",
    "database =  raw_input('database?\\t')\n",
    "qry=\"\"\"\n",
    "select relname, tgname, tgtype, proname, prosrc,\n",
    "tgconstrrelid, tgdeferrable, tginitdeferred, tgnargs,\n",
    "tgattr, tgargs from (pg_trigger join pg_class on tgrelid=pg_class.oid)\n",
    "join pg_proc on (tgfoid=pg_proc.oid)\n",
    "\"\"\"\n",
    "%sql postgres@$T.DB_NAME $qry"
   ]
  },
  {
   "cell_type": "code",
   "execution_count": null,
   "metadata": {
    "code_folding": [],
    "collapsed": false
   },
   "outputs": [],
   "source": [
    "# de-dupe table\n",
    "\n",
    "t = {'table':'',\n",
    "     'uid_col':'',\n",
    "     'partition_col':'',\n",
    "     'sort_col':''}\n",
    "for k in t.keys():\n",
    "    v = raw_input(k + '?\\t')\n",
    "    t.update({k:v})\n",
    "\n",
    "conn.set_isolation_level(0)\n",
    "cur.execute(\"\"\" \n",
    "    drop table if exists tmp1;\n",
    "    create table tmp1 as\n",
    "        WITH res AS (\n",
    "            SELECT\n",
    "                t.%(uid_col)s t_%(uid_col)s,\n",
    "                ROW_NUMBER() OVER(PARTITION BY t.%(partition_col)s\n",
    "                                  ORDER BY %(sort_col)s ASC) AS rk\n",
    "            FROM %(table)s t\n",
    "            )\n",
    "        SELECT s.t_%(uid_col)s t_%(uid_col)s\n",
    "            FROM res s\n",
    "            WHERE s.rk = 1;\n",
    "    \n",
    "    drop table if exists tmp2;\n",
    "    create table tmp2 as\n",
    "        select *\n",
    "        from %(table)s t1\n",
    "        WHERE EXISTS (select 1 from tmp1 t2 where t2.t_%(uid_col)s = t1.%(uid_col)s);\n",
    "    drop table %(table)s;\n",
    "    \n",
    "    create table %(table)s as select * from tmp2;\n",
    "    alter table %(table)s add primary key (%(uid_col)s);\n",
    "    \n",
    "    alter table tmp2 rename to %(table)s;\n",
    "    \n",
    "    drop table if exists tmp1;\n",
    "    drop table if exists tmp2;\n",
    "    \"\"\"%t)"
   ]
  },
  {
   "cell_type": "code",
   "execution_count": null,
   "metadata": {
    "code_folding": [],
    "collapsed": false
   },
   "outputs": [],
   "source": [
    "# Execute a DO Function\n",
    "\n",
    "qry=\"\"\"\n",
    "do language plpythonu \n",
    "$BODY$\n",
    "\n",
    "\n",
    "from os import environ\n",
    "for k,v in environ.iteritems():\n",
    "    print k,v\n",
    "    plpy.log(k,v)\n",
    "\n",
    "import sys\n",
    "import os\n",
    "plpy.log(os.system('env')) \n",
    "plpy.log(sys.executable) \n",
    "\n",
    "\n",
    "    \n",
    "$BODY$;\n",
    "\"\"\"\n",
    "%sql postgres@$T.DB_NAME $qry"
   ]
  },
  {
   "cell_type": "markdown",
   "metadata": {
    "code_folding": [
     0
    ]
   },
   "source": [
    "## Triggers & Trigger Functions"
   ]
  },
  {
   "cell_type": "code",
   "execution_count": null,
   "metadata": {
    "code_folding": [],
    "collapsed": true
   },
   "outputs": [],
   "source": [
    "# Auto Add Primary Key\n",
    "\n",
    "c=\"\"\"\n",
    "DROP FUNCTION if exists z_auto_add_primary_key();\n",
    "\n",
    "CREATE OR REPLACE FUNCTION z_auto_add_primary_key()\n",
    "  RETURNS event_trigger AS\n",
    "$BODY$\n",
    "DECLARE\n",
    "    has_index boolean;\n",
    "    tbl text;\n",
    "    _seq text;\n",
    "BEGIN\n",
    "    has_index = (select relhasindex from pg_class \n",
    "            where relnamespace=2200 \n",
    "            and relkind='r' \n",
    "            order by oid desc limit 1);\n",
    "\n",
    "    IF (\n",
    "        pg_trigger_depth()=0 \n",
    "        and has_index=False )\n",
    "    THEN\n",
    "        tbl = (select relname t from pg_class \n",
    "            where relnamespace=2200 \n",
    "            and relkind='r' \n",
    "            order by oid desc limit 1);\n",
    "        _seq = format('%I_uid_seq',tbl);\n",
    "        execute format('alter table %I add column uid serial primary key',tbl);\n",
    "        execute format('alter table %I alter column uid set default z_next_free(\n",
    "                    ''%I'', \n",
    "                    ''uid'', \n",
    "                    ''%I'')',tbl,tbl,_seq);\n",
    "    end if;\n",
    "END;\n",
    "$BODY$\n",
    "  LANGUAGE plpgsql;\n",
    "\n",
    "\n",
    "DROP EVENT TRIGGER if exists missing_primary_key_trigger;\n",
    "\n",
    "CREATE EVENT TRIGGER missing_primary_key_trigger \n",
    "ON ddl command end \n",
    "WHEN TAG IN ('CREATE TABLE')\n",
    "EXECUTE PROCEDURE z_auto_add_primary_key();\n",
    "\"\"\"\n",
    "conn.set_isolation_level(0)\n",
    "cur.execute(c)"
   ]
  },
  {
   "cell_type": "code",
   "execution_count": null,
   "metadata": {
    "code_folding": [],
    "collapsed": true
   },
   "outputs": [],
   "source": [
    "# Auto Add Last Updated\n",
    "\n",
    "c=\"\"\"\n",
    "DROP FUNCTION if exists z_auto_add_last_updated_field() cascade;\n",
    "\n",
    "CREATE OR REPLACE FUNCTION z_auto_add_last_updated_field()\n",
    "  RETURNS event_trigger AS\n",
    "$BODY$\n",
    "DECLARE\n",
    "    last_table text;\n",
    "    has_last_updated boolean;\n",
    "    \n",
    "    \n",
    "BEGIN\n",
    "    last_table := (select relname from pg_class \n",
    "                 where relnamespace=2200 \n",
    "                 and relkind='r' \n",
    "                 order by oid desc limit 1);\n",
    "    \n",
    "    SELECT count(*)>0 INTO has_last_updated FROM information_schema.columns\n",
    "        where table_name='||quote_ident(last_table)||'\n",
    "        and column_name='last_updated';\n",
    "\n",
    "    IF (\n",
    "        pg_trigger_depth()=0 \n",
    "        and has_last_updated=False )\n",
    "    THEN\n",
    "        execute format('alter table %I add column last_updated timestamp with time zone',last_table);\n",
    "    end if; \n",
    "\n",
    "END;\n",
    "$BODY$\n",
    "  LANGUAGE plpgsql;\n",
    "\"\"\"\n",
    "conn.set_isolation_level(0)\n",
    "cur.execute(c)\n",
    "\n",
    "c=\"\"\"\n",
    "DROP EVENT TRIGGER if exists missing_last_updated_field;\n",
    "\n",
    "CREATE EVENT TRIGGER missing_last_updated_field \n",
    "ON ddl_command_end\n",
    "WHEN TAG IN ('CREATE TABLE')\n",
    "EXECUTE PROCEDURE z_auto_add_last_updated_field();\n",
    "\"\"\"\n",
    "conn.set_isolation_level(0)\n",
    "cur.execute(c)"
   ]
  },
  {
   "cell_type": "markdown",
   "metadata": {},
   "source": [
    "# PG Custom Geo-Functions"
   ]
  },
  {
   "cell_type": "code",
   "execution_count": null,
   "metadata": {
    "code_folding": [
     0
    ],
    "collapsed": true
   },
   "outputs": [],
   "source": [
    "# f(x) z_get_nodes_in_geom\n",
    "%%sql postgres@routing\n",
    "drop function if exists z_get_nodes_in_geom(text,text,geometry);\n",
    "create or replace function z_get_nodes_in_geom(node_table text,\n",
    "                                                node_col text,\n",
    "                                                in_geom geometry)\n",
    "returns text\n",
    "as $$\n",
    "\n",
    "    p = \"SELECT st_collect(array_agg(%s)) geom FROM %s\"%(node_col,node_table)\n",
    "    multi_pts = plpy.execute(p)[0]['geom']\n",
    "\n",
    "    p = plpy.prepare(\"SELECT st_collect(st_intersection($1,$2)) pts_within\", [\"geometry\",\"geometry\"]) \n",
    "    pts_within = plpy.execute(p,[ multi_pts,in_geom ])[0]['pts_within']\n",
    "\n",
    "    _p = \"SELECT id FROM %s WHERE %s\"%(node_table,node_col)\n",
    "    p = plpy.prepare(_p+\" && $1\", [\"geometry\"])\n",
    "    return plpy.execute(p,[ pts_within ])[:]\n",
    "\n",
    "$$ language plpythonu;"
   ]
  },
  {
   "cell_type": "code",
   "execution_count": null,
   "metadata": {
    "code_folding": [
     0
    ],
    "collapsed": true
   },
   "outputs": [],
   "source": [
    "# call z_get_nodes_in_geom\n",
    "%%sql postgres@routing\n",
    "select z_get_nodes_in_geom('lion_ways_slim_vertices_pgr',\n",
    "                           'the_geom',\n",
    "                           z_get_way_box('14 st', '10 ave', '59 st', '1 ave'))"
   ]
  },
  {
   "cell_type": "code",
   "execution_count": null,
   "metadata": {
    "code_folding": [],
    "collapsed": true
   },
   "outputs": [],
   "source": [
    "# f(x) z_update_table_with_closest_node\n",
    "%%sql postgres@routing\n",
    "\n",
    "drop function if exists public.z_update_table_with_closest_node(text,text,\n",
    "                                              text,text,\n",
    "                                              text,text);\n",
    "\n",
    "create or replace function z_update_table_with_closest_node(node_table text, node_col text,\n",
    "                                          update_table text, point_col text, \n",
    "                                          update_col text, update_col_idx text)\n",
    "returns text\n",
    "as $$\n",
    "    \n",
    "    p = \"SELECT st_collect(array_agg(%s)) geom FROM %s\"%(node_col,node_table)\n",
    "    multi_pts = plpy.execute(p)[0]['geom']\n",
    "    \n",
    "    p = \"select st_geomfromtext(%s,4326) geom,* from %s\"%(point_col,update_table)\n",
    "    for row in plpy.cursor(p):\n",
    "        \n",
    "        p = plpy.prepare(\"SELECT st_closestpoint($1,$2) close_pt\", [\"geometry\",\"geometry\"])\n",
    "        close_pt = plpy.execute(p,[ multi_pts,row['geom'] ])[0]['close_pt']\n",
    "        \n",
    "        _p = \"SELECT id FROM %s\"%node_table\n",
    "        p = plpy.prepare(_p+\" WHERE the_geom = $1\", [\"geometry\"])\n",
    "        lion_node = plpy.execute(p,[ close_pt ])[0]['id']\n",
    "\n",
    "        row_idx=row['%s'%update_col_idx]\n",
    "        p = \"UPDATE %s SET %s = %s where %s = %s\"%(update_table,update_col,lion_node,update_col_idx,row_idx)\n",
    "        z = plpy.execute(p)\n",
    "        \n",
    "    return 'ok'\n",
    "        \n",
    "$$ language plpythonu;"
   ]
  },
  {
   "cell_type": "code",
   "execution_count": null,
   "metadata": {
    "code_folding": [
     0
    ],
    "collapsed": true
   },
   "outputs": [],
   "source": [
    "# call z_update_table_with_closest_node\n",
    "%%sql postgres@routing\n",
    "select z_update_table_with_closest_node('lion_ways_slim_vertices_pgr','the_geom',\n",
    "                                          'vendors', 'geom_text',\n",
    "                                          'node', 'id')"
   ]
  },
  {
   "cell_type": "code",
   "execution_count": null,
   "metadata": {
    "code_folding": [
     0
    ],
    "collapsed": true
   },
   "outputs": [],
   "source": [
    "# f(x) z_get_closest_node_to_point_text\n",
    "%%sql postgres@routing\n",
    "drop function if exists public.z_get_closest_node_to_point_text(text,text,text);\n",
    "create or replace function z_get_closest_node_to_point_text(node_table text,\n",
    "                                                            node_col text,\n",
    "                                                            uid_col text,    \n",
    "                                                            to_point text)\n",
    "returns integer\n",
    "as $$\n",
    "    \n",
    "    p = \"SELECT st_collect(array_agg(%s)) geom FROM %s\"%(node_col,node_table)\n",
    "    multi_pts = plpy.execute(p)[0]['geom']\n",
    "    \n",
    "    p = plpy.prepare(\"SELECT st_closestpoint($1,st_geomfromtext($2,4326)) close_pt\", [\"geometry\",\"text\"]) \n",
    "    close_pt = plpy.execute(p,[ multi_pts,to_point ])[0]['close_pt']\n",
    "    \n",
    "    _p = \"SELECT id FROM %s\"%node_table\n",
    "    p = plpy.prepare(_p+\" WHERE the_geom = $1\", [\"geometry\"])\n",
    "    return plpy.execute(p,[ close_pt ])[0]['id']\n",
    "        \n",
    "$$ language plpythonu;"
   ]
  },
  {
   "cell_type": "code",
   "execution_count": null,
   "metadata": {
    "code_folding": [
     0
    ],
    "collapsed": true
   },
   "outputs": [],
   "source": [
    "# call z_get_closest_node_to_point_text\n",
    "%%sql postgres@routing \n",
    "select z_get_closest_node_to_point_text('lion_ways_slim_vertices_pgr','the_geom',\n",
    "                      'POINT (-73.9893011318052771 40.7579070491531965)')"
   ]
  },
  {
   "cell_type": "code",
   "execution_count": null,
   "metadata": {
    "code_folding": [],
    "collapsed": true
   },
   "outputs": [],
   "source": [
    "### quick dijkstra\n",
    "cmd = \"\"\"SELECT cost FROM pgr_dijkstra('\n",
    "                SELECT gid AS id,\n",
    "                         source::integer,\n",
    "                         target::integer,\n",
    "                         len_miles::double precision AS cost\n",
    "                        FROM lws',\n",
    "                893, 4487, false, false);\"\"\".replace('\\n','')\n",
    "print pd.read_sql_query(cmd,engine)\n",
    "# print round((pd.read_sql_query(cmd,engine).cost.sum()*3.280839895) / 5280,5),'miles between points'"
   ]
  },
  {
   "cell_type": "code",
   "execution_count": null,
   "metadata": {
    "code_folding": [],
    "collapsed": true
   },
   "outputs": [],
   "source": [
    "# create node_many_t\n",
    "%%sql postgres@routing\n",
    "DROP TYPE if exists node_many_t;\n",
    "CREATE TYPE node_many_t AS (\n",
    "    seq integer,\n",
    "    source integer,\n",
    "    target integer,\n",
    "    cost double precision\n",
    ");"
   ]
  },
  {
   "cell_type": "code",
   "execution_count": null,
   "metadata": {
    "code_folding": [
     0
    ],
    "collapsed": true
   },
   "outputs": [],
   "source": [
    "# f(x) z_get_miles_between_nodes(text,int,int)\n",
    "%%sql postgres@routing\n",
    "drop function if exists public.z_get_miles_between_nodes(text,integer,integer);\n",
    "create or replace function z_get_miles_between_nodes(route_tbl text,\n",
    "                                                     node_a integer,\n",
    "                                                     node_b integer)\n",
    "returns double precision\n",
    "as $$\n",
    "    \n",
    "    p = \"\"\"select sum(cost::double precision) arr\n",
    "            FROM \n",
    "                (SELECT cost FROM pgr_dijkstra('\n",
    "                    SELECT gid AS id,\n",
    "                             source::integer,\n",
    "                             target::integer,\n",
    "                             len_miles::double precision AS cost\n",
    "                            FROM %s',\n",
    "                    %s, %s, false, false)) as all_costs\"\"\"%(route_tbl,node_a,node_b)\n",
    "    \n",
    "    return plpy.execute(p)[0]['arr']\n",
    "        \n",
    "$$ language plpythonu;"
   ]
  },
  {
   "cell_type": "code",
   "execution_count": null,
   "metadata": {
    "code_folding": [
     0
    ],
    "collapsed": true
   },
   "outputs": [],
   "source": [
    "# f(x) z_get_miles_between_nodes(text,integer,integer[])\n",
    "%%sql postgres@routing\n",
    "drop function if exists public.z_get_miles_between_nodes(text,\n",
    "                                                        integer,\n",
    "                                                        integer[]);\n",
    "create or replace function z_get_miles_between_nodes(route_tbl text,\n",
    "                                                     node_1 integer,\n",
    "                                                     node_many integer[])\n",
    "returns double precision[]\n",
    "as $$\n",
    "    \n",
    "    p = \"\"\"SELECT seq, id1 as source, id2 as target, cost::double precision\n",
    "                FROM pgr_kdijkstraCost('\n",
    "                SELECT gid AS id,\n",
    "                         source::integer,\n",
    "                         target::integer,\n",
    "                         len_miles::double precision AS cost\n",
    "                        FROM %s',\n",
    "                %s, array%s, false, false);\"\"\"%(route_tbl,node_1,\n",
    "                                                str([int(it) for it in node_many]))\n",
    "    \n",
    "    records = plpy.execute(p)\n",
    "    return [ (r[\"cost\"]) for r in records ]\n",
    "        \n",
    "$$ language plpythonu;"
   ]
  },
  {
   "cell_type": "code",
   "execution_count": null,
   "metadata": {
    "code_folding": [
     0
    ],
    "collapsed": true
   },
   "outputs": [],
   "source": [
    "# f(x) z_get_miles_between_nodes(text,integer[],integer[])\n",
    "%%sql postgres@routing\n",
    "drop function if exists public.z_get_miles_between_nodes(text,integer[],integer[]);\n",
    "create or replace function z_get_miles_between_nodes(route_tbl text,\n",
    "                                                     node_arr_1 integer[],\n",
    "                                                     node_arr_2 integer[])\n",
    "returns float[]\n",
    "as $$\n",
    "    r = []\n",
    "    for i in range(0,len(node_arr_1)):\n",
    "        p = \"\"\" SELECT sum(cost::double precision) arr\n",
    "                FROM \n",
    "                    (SELECT cost FROM pgr_dijkstra('\n",
    "                        SELECT gid AS id,\n",
    "                                 source::integer,\n",
    "                                 target::integer,\n",
    "                                 len_miles::double precision AS cost\n",
    "                                FROM %s',\n",
    "                        %s, %s, false, false)) as all_costs\"\"\"%(route_tbl,\n",
    "                                                                node_arr_1[i],\n",
    "                                                                node_arr_2[i])\n",
    "    \n",
    "        r.append(plpy.execute(p)[0]['arr'])\n",
    "    return r\n",
    "        \n",
    "$$ language plpythonu;"
   ]
  },
  {
   "cell_type": "code",
   "execution_count": null,
   "metadata": {
    "code_folding": [
     0
    ],
    "collapsed": true
   },
   "outputs": [],
   "source": [
    "# call z_get_miles_between_nodes\n",
    "%%sql postgres@routing\n",
    "select z_get_miles_between_nodes('lws',1722,8037)"
   ]
  },
  {
   "cell_type": "code",
   "execution_count": null,
   "metadata": {
    "code_folding": [
     0
    ],
    "collapsed": true
   },
   "outputs": [],
   "source": [
    "# f(x) z_update_table_with_closest_node\n",
    "%%sql postgres@routing\n",
    "\n",
    "drop function if exists public.z_add_point( text,\n",
    "                                            double precision,\n",
    "                                            double precision);\n",
    "\n",
    "create or replace function z_add_point(pt_table text,\n",
    "                                       pt_x double precision,\n",
    "                                       pt_y double precision)\n",
    "returns text\n",
    "as $$\n",
    "    \n",
    "    p = \"SELECT st_collect(array_agg(%s)) geom FROM %s\"%(node_col,node_table)\n",
    "    multi_pts = plpy.execute(p)[0]['geom']\n",
    "    \n",
    "    p = \"select st_geomfromtext(%s,4326) geom,* from %s\"%(point_col,update_table)\n",
    "    for row in plpy.cursor(p):\n",
    "        \n",
    "        p = plpy.prepare(\"SELECT st_closestpoint($1,$2) close_pt\", [\"geometry\",\"geometry\"])\n",
    "        close_pt = plpy.execute(p,[ multi_pts,row['geom'] ])[0]['close_pt']\n",
    "        \n",
    "        _p = \"SELECT id FROM %s\"%node_table\n",
    "        p = plpy.prepare(_p+\" WHERE the_geom = $1\", [\"geometry\"])\n",
    "        lion_node = plpy.execute(p,[ close_pt ])[0]['id']\n",
    "\n",
    "        row_idx=row['%s'%update_col_idx]\n",
    "        p = \"UPDATE %s SET %s = %s where %s = %s\"%(update_table,update_col,lion_node,update_col_idx,row_idx)\n",
    "        z = plpy.execute(p)\n",
    "        \n",
    "    return 'ok'\n",
    "        \n",
    "$$ language plpythonu;"
   ]
  },
  {
   "cell_type": "code",
   "execution_count": null,
   "metadata": {
    "code_folding": [
     0
    ],
    "collapsed": true
   },
   "outputs": [],
   "source": [
    "# sql z_get_miles_bt_node_many\n",
    "%%sql postgres@routing\n",
    "drop function if exists public.z_get_miles_bt_node_many(integer,bigint[]);\n",
    "create or replace function z_get_miles_bt_node_many(node_1 integer,\n",
    "                                                    node_many bigint[])\n",
    "returns table(seq integer,id1 integer,id2 integer,cost double precision)\n",
    "as $$\n",
    "\n",
    "SELECT p.seq, p.id1, p.id2, p.cost\n",
    "    FROM pgr_kdijkstraCost(\n",
    "        SELECT gid AS id,\n",
    "        source::integer,\n",
    "        target::integer,\n",
    "        len_miles::double precision AS cost\n",
    "        FROM lion_ways_slim',\n",
    "    $1,\n",
    "    array[1836, 1788, 1534, 2480, 2646, 1727, 128, 157, 1691, 1618],\n",
    "    false,\n",
    "    false) p;\n",
    "\n",
    "$$ language sql;"
   ]
  },
  {
   "cell_type": "markdown",
   "metadata": {},
   "source": [
    "# TABLES:"
   ]
  },
  {
   "cell_type": "markdown",
   "metadata": {
    "code_folding": []
   },
   "source": [
    "## NYC Tables"
   ]
  },
  {
   "cell_type": "code",
   "execution_count": null,
   "metadata": {
    "code_folding": [
     0
    ],
    "collapsed": false
   },
   "outputs": [],
   "source": [
    "# NYC TABLES -- Libraries & F(x)s \n",
    "from os                             import environ          as os_environ\n",
    "from os                             import path             as os_path\n",
    "from sys                            import path             as py_path\n",
    "py_path.append(os_path.join(os_environ['BD'],'geolocation'))\n",
    "from f_nyc_data import NYC_Tables\n",
    "NT = NYC_Tables()\n",
    "\n",
    "# NT.add_geom_using_address('seamless') # 'seamless' | 'yelp' | 'seamless_geom_error' | 'mnv'\n",
    "# NT.add_geom_using_geocoding('seamless') # 'seamless' | 'yelp' | 'mnv'\n",
    "\n"
   ]
  },
  {
   "cell_type": "code",
   "execution_count": null,
   "metadata": {
    "code_folding": [
     0
    ],
    "collapsed": true
   },
   "outputs": [],
   "source": [
    "### match mnv to lot_pts (5697 rows affected, 50% successful)\n",
    "conn.set_isolation_level(0)\n",
    "cur.execute(\"\"\"\n",
    "update mnv v\n",
    "set \n",
    "    bbl = l.bbl::integer,\n",
    "    geom = l.geom\n",
    "from lot_pts l\n",
    "where l.bldg_street ilike v.clean_street\n",
    "and (l.bldg_num_start <= v.building::integer and\n",
    "     v.building::integer <= l.bldg_num_end)\n",
    "and l.bbl is not null\n",
    "and length( regexp_replace(v.building, '\\d*', '') ) = 0\n",
    "\"\"\")"
   ]
  },
  {
   "cell_type": "code",
   "execution_count": null,
   "metadata": {
    "code_folding": [
     0
    ],
    "collapsed": true
   },
   "outputs": [],
   "source": [
    "### add 'assess_com_val' to pluto *changed to 'assesstot_div_comarea'\n",
    "p['assess_com_val'] = p.assesstot.map(float) / p.comarea.map(float)\n",
    "engine.execute('drop table if exists tmp;')\n",
    "p.to_sql('tmp',engine)\n",
    "engine.execute(\"\"\"\n",
    "\n",
    "alter table pluto add column assess_com_val double precision;\n",
    "update pluto set assess_com_val = t.assess_com_val\n",
    "from tmp t\n",
    "where gid = t.gid;\n",
    "drop table if exists tmp;\n",
    "\n",
    "\"\"\")"
   ]
  },
  {
   "cell_type": "code",
   "execution_count": null,
   "metadata": {
    "code_folding": [
     0
    ],
    "collapsed": true
   },
   "outputs": [],
   "source": [
    "### iter block for add_points_to_remaining_lots\n",
    "show_some_detail=False\n",
    "show_steps=False\n",
    "engine.execute('drop table if exists temp;')\n",
    "for block in chain(uniq_blocks[20:]):\n",
    "#     res='\\nblock\\t',block\n",
    "#     res+= \" \".join(['  with',len(all_pts[all_pts.block==block]),'lots in lot_pts'])\n",
    "#     res+= \" \".join([print '  and',pd.read_sql(\"\"\"\n",
    "#                             select count(bbl) cnt\n",
    "#                             from pluto\n",
    "#                             where block = to_number('%s','99999')\n",
    "#                         \"\"\"%block,engine).cnt[0],'lots in pluto'])\n",
    "    \n",
    "    lot_pts,A,skip = [],[],False\n",
    "    \n",
    "    if show_some_detail==True: print 'block\\t',block\n",
    "\n",
    "    uniq_street = all_pts[all_pts.block==block].bldg_street.unique().tolist()\n",
    "    if uniq_street.count('')!=0:    dev = uniq_street.pop(uniq_street.index(''))\n",
    "    if uniq_street.count(None)!=0:  dev = uniq_street.pop(uniq_street.index(None))\n",
    "        \n",
    "    for street_name in chain(uniq_street):\n",
    "        if show_some_detail==True: print '\\t\\tstreet_name\\t',street_name\n",
    "\n",
    "        lots = gd.read_postgis(\"\"\"\n",
    "                SELECT * FROM pluto \n",
    "                WHERE substring(to_char(bbl,'9999999999') from 3 for 5) = '%(block)s'\n",
    "                AND street like concat(%(wildcard)s,'%(street)s')\n",
    "                \"\"\"%{'block':block,\n",
    "                     'street':street_name,\n",
    "                     'wildcard':'%s'},engine, params=['%'])\n",
    "\n",
    "        if len(lots)!=0:\n",
    "\n",
    "            #if show_steps==True: A.extend(lots.geom)\n",
    "#             res+= \" \".join([ '\\t-',street_name,'with',len(lots),'lots'])\n",
    "\n",
    "            ### Create Buffer Around Lots\n",
    "            s = str([it.to_wkt() for it in lots.geom])\n",
    "            T = {'buffer': '0.0005',\n",
    "                 'geoms' : s}\n",
    "            cmd =   \"\"\" SELECT ST_Buffer(ST_ConvexHull((ST_Collect(the_geom))), %(buffer)s) as geom\n",
    "                        FROM ( SELECT (ST_Dump( unnest(array[%(geoms)s]) )).geom the_geom) as t\"\"\".replace('\\n','')%T\n",
    "            block_buffer = gd.read_postgis(cmd,engine)\n",
    "            #if show_steps==True: A.extend(block_buffer.geom)\n",
    "\n",
    "            ### Get street as Line from lion_ways\n",
    "            cmd =   \"\"\" SELECT st_makeline(_geom) geom\n",
    "                        FROM\n",
    "                            st_geomfromtext(\n",
    "                            ' %(block_buffer)s '\n",
    "                            , 4326) block_buffer,\n",
    "                            (select ( st_dump( geom )).geom _geom\n",
    "                                FROM lion_ways l\n",
    "                                WHERE l.clean_street = '%(1)s'\n",
    "                                AND l.geom is not null  ) as t2\n",
    "                        WHERE st_intersects(_geom,block_buffer) is True\n",
    "                    \"\"\".replace('\\n','')%{'1':str(street_name),\n",
    "                                          'block_buffer':str(block_buffer.geom[0].to_wkt())}\n",
    "            try:\n",
    "                line_geom = gd.read_postgis(cmd,engine)\n",
    "                skip_street=False\n",
    "            except AttributeError:\n",
    "                print 'skipping street:',street_name\n",
    "                skip_street=True            \n",
    "\n",
    "            if skip_street==False:\n",
    "\n",
    "                # A.extend(line_geom.geom)\n",
    "                LINE = line_geom.geom[0].to_wkt()\n",
    "\n",
    "                ### Keep only part of line intersecting with buffer\n",
    "                s1 = str([it.to_wkt() for it in block_buffer.geom][0])\n",
    "                s2 = str([it.to_wkt() for it in line_geom.geom][0])\n",
    "                T = {'block_buffer': s1,\n",
    "                     'street_line' : s2}\n",
    "                cmd =   \"\"\" SELECT res_geom geom\n",
    "                            FROM\n",
    "                                st_geomfromtext('%(block_buffer)s') s1,\n",
    "                                st_geomfromtext('%(street_line)s') s2,\n",
    "                                st_intersection(s1,s2) res_geom\n",
    "                        \"\"\".replace('\\n','')%T\n",
    "                tmp_part_line=gd.read_postgis(cmd,engine)\n",
    "        #\n",
    "                if show_steps==True:  A.extend(tmp_part_line.geom)\n",
    "\n",
    "                for i in range(0,len(lots.geom)):\n",
    "                    bbl,lot = lots.ix[i,['bbl','geom']].values\n",
    "\n",
    "                    cmd =   \"\"\" SELECT ( st_dump( _geom )).geom,ST_NPoints((( st_dump( _geom )).geom))\n",
    "                            FROM (\n",
    "                                SELECT ( st_dump( st_geomfromtext('%(1)s') )).geom _geom\n",
    "                                ) as t\n",
    "                        \"\"\".replace('\\n','')%{'1':str(lot.to_wkt())}\n",
    "\n",
    "                    ### Get Single Lot Polygon\n",
    "                    lot=gd.read_postgis(cmd,engine)\n",
    "                    if show_some_detail==True: A.append(lot.geom[0])\n",
    "\n",
    "                    ### Get Line From Lot Polygon\n",
    "                    perim_line = lot.boundary[0].to_wkt()\n",
    "                    # if show_steps==True: A.append(lot.boundary[0])\n",
    "\n",
    "                    ### Get Points of Segment of Lot Polygon Closest to Street\n",
    "                    cmd =   \"\"\" SELECT ( st_dumppoints( st_geomfromtext('%(1)s') )).geom\"\"\".replace('\\n','')%{'1':str(perim_line)}\n",
    "                    points = gd.read_postgis(cmd,engine).geom\n",
    "                    t1,t2={},{}\n",
    "                    for j in range(1,len(points)):\n",
    "                        poly_seg_pts=points[j-1],points[j]\n",
    "                        dist_from_street = pd.read_sql(\"\"\"  select\n",
    "                                                            st_distance(\n",
    "                                                               st_geomfromtext(' %(start_pt)s '),\n",
    "                                                               st_geomfromtext(' %(street)s '))\n",
    "                                                               +\n",
    "                                                            st_distance(\n",
    "                                                               st_geomfromtext(' %(end_pt)s '),\n",
    "                                                               st_geomfromtext(' %(street)s '))\n",
    "                                                            dist\n",
    "                                                        \"\"\".replace('\\n','')%{'start_pt':str(poly_seg_pts[0]),\n",
    "                                                                              'end_pt' : str(poly_seg_pts[1]),\n",
    "                                                                              'street' : LINE},engine)\n",
    "                        t1.update({j:dist_from_street.dist[0]})\n",
    "                        t2.update({j:poly_seg_pts})\n",
    "                    closest_seg_pts = t2[t1.values().index(min(t1.values()))+1]\n",
    "\n",
    "                    ### Lot Segment MidPoint\n",
    "                    lot_seg_mid_pt = gd.read_postgis(\"\"\"   SELECT ST_Line_Interpolate_Point(st_makeline(ptA,ptB),0.5) geom\n",
    "                                                            FROM\n",
    "                                                                st_geomfromtext(' %(start_pt)s ') ptA,\n",
    "                                                                st_geomfromtext(' %(end_pt)s ') ptB\n",
    "                                                    \"\"\".replace('\\n','')%{'start_pt': str(closest_seg_pts[0]),\n",
    "                                                                          'end_pt'  : str(closest_seg_pts[1]),\n",
    "                                                                          'street'  : LINE},engine)\n",
    "\n",
    "                    if show_steps==True: A.append(lot_seg_mid_pt.geom[0])\n",
    "\n",
    "                    ### Closest Point in Street\n",
    "                    street_seg_mid_pt = gd.read_postgis(\"\"\"\n",
    "                        SELECT ST_ClosestPoint(\n",
    "                            st_geomfromtext(' %(street)s '),\n",
    "                            st_geomfromtext(' %(mid_pt)s ')) geom\n",
    "                        \"\"\".replace('\\n','')%{'mid_pt'  : str(lot_seg_mid_pt.geom[0].to_wkt()),\n",
    "                                              'street'  : LINE},engine)\n",
    "                    #A.append(street_seg_mid_pt.geom[0])\n",
    "\n",
    "                    ### Absolute Angle of Segment (12=0 deg.,6=180 deg.)\n",
    "                    seg_angle = pd.read_sql(\"\"\"     SELECT ST_Azimuth(ptA,ptB) ang\n",
    "                                                    FROM\n",
    "                                                                st_geomfromtext(' %(start_pt)s ') ptA,\n",
    "                                                                st_geomfromtext(' %(end_pt)s ') ptB\n",
    "                                                    \"\"\".replace('\\n','')%{'start_pt': str(closest_seg_pts[0]),\n",
    "                                                                          'end_pt'  : str(closest_seg_pts[1])},engine).ang[0]\n",
    "\n",
    "                    ### Point on Street that Intersects with perp. line extending from Poly Segment Midpoint\n",
    "                    this_lot_pt = gd.read_postgis(\"\"\"\n",
    "                        SELECT ( st_dumppoints( st_intersection( street, st_makeline(\n",
    "                            st_makeline(mid_pt::geometry(Point,4326),ptA::geometry(Point,4326)),\n",
    "                            st_makeline(mid_pt::geometry(Point,4326),ptB::geometry(Point,4326))))  )).geom\n",
    "                        FROM\n",
    "                            st_geomfromtext(' %(mid_pt)s ', 4326) mid_pt,\n",
    "                            st_geomfromtext(' %(street)s ', 4326) street,\n",
    "                            st_geomfromtext(' %(line_seg_pt)s ', 4326) line_seg_pt,\n",
    "                            ST_Distance_Spheroid(mid_pt,line_seg_pt,\n",
    "                                'SPHEROID[\"WGS 84\",6378137,298.257223563]') dist,\n",
    "                            ST_Project(mid_pt,dist+(dist*1.1),%(ang1)s) ptA,\n",
    "                            ST_Project(mid_pt,dist+(dist*1.1),%(ang2)s) ptB\n",
    "                                                    \"\"\".replace('\\n','')%{'mid_pt' : str(lot_seg_mid_pt.geom[0].to_wkt()),\n",
    "                                                                          'line_seg_pt' : str(street_seg_mid_pt.geom[0].to_wkt()),\n",
    "                                                                          'street'  : LINE,\n",
    "                                                                          'ang1' : str(deg_to_rad(90-(360-rad_to_deg(seg_angle)))),\n",
    "                                                                          'ang2' : str(deg_to_rad(270-(360-rad_to_deg(seg_angle))))},\n",
    "                                                  engine).geom\n",
    "                #\n",
    "                    if len(this_lot_pt)==0 or len(lot.geom)>1:\n",
    "                        this_lot_pt = gd.read_postgis(\"\"\"select st_closestpoint(\n",
    "                                                st_geomfromtext(' %(street)s '),\n",
    "                                                st_geomfromtext(' %(lot)s ')) geom\n",
    "                            \"\"\"%{'street'  : LINE,\n",
    "                                 'lot' : str(lot.geom[0].to_wkt())},engine).geom\n",
    "\n",
    "                        if show_some_detail==True: A.append(this_lot_pt[0]) # taking first value...\n",
    "                        lot_pts.append({'bbl':bbl,\n",
    "                                        'geom':this_lot_pt[0]})\n",
    "\n",
    "                    else:\n",
    "\n",
    "                        if show_some_detail==True: A.append(this_lot_pt[0]) # taking first value...\n",
    "                        lot_pts.append({'bbl':bbl,\n",
    "                                        'geom':this_lot_pt[0]})\n",
    "\n",
    "                        ### Line Connecting Lot to Street\n",
    "                        line_lot_to_street = gd.read_postgis(\"\"\"\n",
    "                            SELECT ST_ShortestLine(lot_pt,mid_pt) geom\n",
    "                            FROM\n",
    "                                st_geomfromtext(' %(lot_pt)s ',4326) lot_pt,\n",
    "                                st_geomfromtext(' %(mid_pt)s ',4326) mid_pt\n",
    "                            \"\"\".replace('\\n','')%{'mid_pt'  : str(lot_seg_mid_pt.geom[0].to_wkt()),\n",
    "                                                  'lot_pt'  : this_lot_pt[0]},engine)\n",
    "                #\n",
    "                        if len(line_lot_to_street.geom)>1:\n",
    "                            gd.GeoSeries(line_lot_to_street.geom).plot()\n",
    "                            print 'too much for Line Connecting Lot to Street'\n",
    "                            raise SystemError\n",
    "                        if show_some_detail==True: A.append(line_lot_to_street.geom[0])\n",
    "\n",
    "    if show_some_detail==True: \n",
    "        d=gd.GeoSeries(A).plot(fig_size=(26,22),\n",
    "                               save_fig_path=save_fig_path,\n",
    "                               save_and_show=False)\n",
    "        me = raw_input('y?')\n",
    "    else: me='y'\n",
    "\n",
    "    if (me=='y' or me=='yq') and lot_pts!=[]:\n",
    "        c = gd.GeoDataFrame(lot_pts)\n",
    "        d=[]\n",
    "        dev=[d.extend(zip(*it.coords.xy)) for it in c.geom]\n",
    "        D = pd.DataFrame({'bbl':c.bbl.tolist(),'xy':d})\n",
    "        D['x'],D['y'] = zip(*D.xy)\n",
    "        D.to_sql('temp',engine,if_exists='append')\n",
    "\n",
    "#         print '  + added',len(lot_pts),'lots'\n",
    "        if me=='yq': raise SystemError\n",
    "        else:\n",
    "            lot_pts,A,skip = [],[],False\n",
    "            plt.clf()\n",
    "    else:\n",
    "        if me!='y': raise SystemExit\n",
    "\n",
    "\n",
    "engine.execute(\"\"\"\n",
    "UPDATE lot_pts l\n",
    "SET geom = st_setsrid(st_makepoint(t.x,t.y),4326) \n",
    "FROM temp t \n",
    "WHERE l.bbl = t.bbl\n",
    "\"\"\")\n",
    "print 'DONE!'"
   ]
  },
  {
   "cell_type": "code",
   "execution_count": null,
   "metadata": {
    "code_folding": [
     0
    ],
    "collapsed": true
   },
   "outputs": [],
   "source": [
    "### add_points_to_remaining_lots\n",
    "show_some_detail=False\n",
    "show_steps=False\n",
    "from IPython.display import FileLink, FileLinks\n",
    "save_fig_path = '/Users/admin/Projects/GIS/matplotlib_data/nyc_block_and_lot.png'\n",
    "matplot_files = FileLinks(\"/Users/admin/Projects/GIS/matplotlib_data/\")\n",
    "# display(matplot_files)\n",
    "from math import degrees as rad_to_deg\n",
    "from math import radians as deg_to_rad\n",
    "from itertools import chain\n",
    "from matplotlib import pyplot as plt\n",
    "\n",
    "def geoms_to_collection(geoms):\n",
    "    s='GEOMETRYCOLLECTION('\n",
    "    for it in geoms:\n",
    "        s+=it.to_wkt()+','\n",
    "    return s.rstrip(',')+')'\n",
    "def geoms_to_text(geoms):\n",
    "    if type(geoms_to_text) != list: geoms=list(geoms)\n",
    "    s=''\n",
    "    for it in geoms:\n",
    "        try:\n",
    "            s+=\"ST_GeomFromText('\"+it.to_wkt()+\"'),\"\n",
    "        except:\n",
    "            s+=\"ST_GeomFromText('\"+it+\"'),\"\n",
    "    return s.rstrip(',')\n",
    "def geom_txts_to_collection(geom_txts):\n",
    "    return \"ST_Collect(ARRAY[\"+geoms_to_text(geom_txts)+'])'\n",
    "\n",
    "all_pts = pd.read_sql_query(\"select * from lot_pts where geom is null and ignore is false and place is false\",engine)\n",
    "all_pts['block'] = all_pts.bbl.map(lambda s: str(s)[1:6])\n",
    "uniq_blocks = all_pts.block.unique().tolist()\n",
    "if show_some_detail==True: print len(uniq_blocks),'unique blocks'\n",
    "if show_some_detail==True: print 'pluto has 1961 unique blocks'\n",
    "# a=pd.read_sql_query(\"select distinct block from pluto\",engine).block.tolist()\n",
    "# for it in a:\n",
    "#     if uniq_blocks.count(str('%05d'%it))==0:\n",
    "#         print it\n",
    "if show_some_detail==True: print 'lot 656 is a pier and was removed from lot_pts'\n",
    "\n",
    "#"
   ]
  },
  {
   "cell_type": "code",
   "execution_count": null,
   "metadata": {
    "code_folding": [
     0
    ],
    "collapsed": true
   },
   "outputs": [],
   "source": [
    "### Make \"address_idx\" and Update \"lot_pts\" with ranges and lot_idx\n",
    "\n",
    "from f_postgres import make_index,add_bldg_range_pts\n",
    "from f_postgres import create_lot_idx_start_pts,create_lot_idx_end_pts\n",
    "\n",
    "make_index(describe=False,commit=True)\n",
    "add_bldg_range_pts()\n",
    "create_lot_idx_start_pts()\n",
    "create_lot_idx_end_pts()"
   ]
  },
  {
   "cell_type": "code",
   "execution_count": null,
   "metadata": {
    "code_folding": [
     0
    ],
    "collapsed": true
   },
   "outputs": [],
   "source": [
    "### add_points_to_remaining_lots\n",
    "show_some_detail=False\n",
    "show_steps=False\n",
    "from IPython.display import FileLink, FileLinks\n",
    "save_fig_path = '/Users/admin/Projects/GIS/matplotlib_data/nyc_block_and_lot.png'\n",
    "matplot_files = FileLinks(\"/Users/admin/Projects/GIS/matplotlib_data/\")\n",
    "# display(matplot_files)\n",
    "from math import degrees as rad_to_deg\n",
    "from math import radians as deg_to_rad\n",
    "from itertools import chain\n",
    "from matplotlib import pyplot as plt\n",
    "\n",
    "def geoms_to_collection(geoms):\n",
    "    s='GEOMETRYCOLLECTION('\n",
    "    for it in geoms:\n",
    "        s+=it.to_wkt()+','\n",
    "    return s.rstrip(',')+')'\n",
    "def geoms_to_text(geoms):\n",
    "    if type(geoms_to_text) != list: geoms=list(geoms)\n",
    "    s=''\n",
    "    for it in geoms:\n",
    "        try:\n",
    "            s+=\"ST_GeomFromText('\"+it.to_wkt()+\"'),\"\n",
    "        except:\n",
    "            s+=\"ST_GeomFromText('\"+it+\"'),\"\n",
    "    return s.rstrip(',')\n",
    "def geom_txts_to_collection(geom_txts):\n",
    "    return \"ST_Collect(ARRAY[\"+geoms_to_text(geom_txts)+'])'\n",
    "\n",
    "all_pts = pd.read_sql_query(\"select * from lot_pts where geom is null and ignore is false and place is false\",engine)\n",
    "all_pts['block'] = all_pts.bbl.map(lambda s: str(s)[1:6])\n",
    "uniq_blocks = all_pts.block.unique().tolist()\n",
    "if show_some_detail==True: print len(uniq_blocks),'unique blocks'\n",
    "if show_some_detail==True: print 'pluto has 1961 unique blocks'\n",
    "# a=pd.read_sql_query(\"select distinct block from pluto\",engine).block.tolist()\n",
    "# for it in a:\n",
    "#     if uniq_blocks.count(str('%05d'%it))==0:\n",
    "#         print it\n",
    "if show_some_detail==True: print 'lot 656 is a pier and was removed from lot_pts'\n",
    "\n",
    "#\n",
    "### iter block for add_points_to_remaining_lots\n",
    "engine.execute('drop table if exists temp;')\n",
    "for block in chain(uniq_blocks[:5]):\n",
    "    print 'block\\t',block\n",
    "    \n",
    "    lot_pts,A,skip = [],[],False\n",
    "    if show_some_detail==True: print 'block\\t',block\n",
    "\n",
    "    uniq_street = all_pts[all_pts.block==block].bldg_street.unique().tolist()\n",
    "    if uniq_street.count('')!=0:    dev = uniq_street.pop(uniq_street.index(''))\n",
    "    if uniq_street.count(None)!=0:  dev = uniq_street.pop(uniq_street.index(None))\n",
    "\n",
    "    for street_name in chain(uniq_street):\n",
    "        if show_some_detail==True: print 'street_name\\t',street_name\n",
    "\n",
    "        ### Get All Lots on Block and On This Street\n",
    "#         pts = all_pts[(all_pts.block==block)&(all_pts.bldg_street==street_name)].sort('bldg_num').reset_index(drop=True)\n",
    "#         cmd=\"\"\" SELECT _bbl bbl,geom\n",
    "#                 FROM pluto p,unnest(array%s) _bbl\n",
    "#                 WHERE p.bbl = _bbl\"\"\"%str(pts.bbl.astype(int).tolist()).replace(\"'\",'')\n",
    "        lots = gd.read_postgis(\"\"\"\n",
    "                select * from pluto \n",
    "                where substring(to_char(bbl,'9999999999') from 3 for 5) = '%s'\n",
    "                \"\"\"%block,engine)\n",
    "\n",
    "#         lots = gd.read_postgis(cmd,engine)\n",
    "        #if show_steps==True: A.extend(lots.geom)\n",
    "        print '\\t\\t',len(lots),'lots'\n",
    "\n",
    "        ### Create Buffer Around Lots\n",
    "        s = str([it.to_wkt() for it in lots.geom])\n",
    "        T = {'buffer': '0.0005',\n",
    "             'geoms' : s}\n",
    "        cmd =   \"\"\" SELECT ST_Buffer(ST_ConvexHull((ST_Collect(the_geom))), %(buffer)s) as geom\n",
    "                    FROM ( SELECT (ST_Dump( unnest(array[%(geoms)s]) )).geom the_geom) as t\"\"\".replace('\\n','')%T\n",
    "        block_buffer = gd.read_postgis(cmd,engine)\n",
    "        #if show_steps==True: A.extend(block_buffer.geom)\n",
    "\n",
    "        ### Get street as Line from lion_ways\n",
    "        cmd =   \"\"\" SELECT st_makeline(_geom) geom\n",
    "                    FROM\n",
    "                        st_geomfromtext(\n",
    "                        ' %(block_buffer)s '\n",
    "                        , 4326) block_buffer,\n",
    "                        (select ( st_dump( geom )).geom _geom\n",
    "                            FROM lion_ways l\n",
    "                            WHERE l.clean_street = '%(1)s'\n",
    "                            AND l.geom is not null  ) as t2\n",
    "                    WHERE st_intersects(_geom,block_buffer) is True\n",
    "                \"\"\".replace('\\n','')%{'1':str(street_name),\n",
    "                                      'block_buffer':str(block_buffer.geom[0].to_wkt())}\n",
    "        try:\n",
    "            line_geom = gd.read_postgis(cmd,engine)\n",
    "            skip_street=False\n",
    "        except AttributeError:\n",
    "            print 'skipping street:',street_name\n",
    "            skip_street=True\n",
    "\n",
    "        if skip_street==False:\n",
    "\n",
    "            # A.extend(line_geom.geom)\n",
    "            LINE = line_geom.geom[0].to_wkt()\n",
    "\n",
    "            ### Keep only part of line intersecting with buffer\n",
    "            s1 = str([it.to_wkt() for it in block_buffer.geom][0])\n",
    "            s2 = str([it.to_wkt() for it in line_geom.geom][0])\n",
    "            T = {'block_buffer': s1,\n",
    "                 'street_line' : s2}\n",
    "            cmd =   \"\"\" SELECT res_geom geom\n",
    "                        FROM\n",
    "                            st_geomfromtext('%(block_buffer)s') s1,\n",
    "                            st_geomfromtext('%(street_line)s') s2,\n",
    "                            st_intersection(s1,s2) res_geom\n",
    "                    \"\"\".replace('\\n','')%T\n",
    "            tmp_part_line=gd.read_postgis(cmd,engine)\n",
    "    #\n",
    "            if show_steps==True:  A.extend(tmp_part_line.geom)\n",
    "\n",
    "            for i in range(0,len(lots.geom)):\n",
    "                bbl,lot = lots.ix[i,['bbl','geom']].values\n",
    "\n",
    "                cmd =   \"\"\" SELECT ( st_dump( _geom )).geom,ST_NPoints((( st_dump( _geom )).geom))\n",
    "                        FROM (\n",
    "                            SELECT ( st_dump( st_geomfromtext('%(1)s') )).geom _geom\n",
    "                            ) as t\n",
    "                    \"\"\".replace('\\n','')%{'1':str(lot.to_wkt())}\n",
    "\n",
    "                ### Get Single Lot Polygon\n",
    "                lot=gd.read_postgis(cmd,engine)\n",
    "                if show_some_detail==True: A.append(lot.geom[0])\n",
    "\n",
    "                ### Get Line From Lot Polygon\n",
    "                perim_line = lot.boundary[0].to_wkt()\n",
    "                # if show_steps==True: A.append(lot.boundary[0])\n",
    "\n",
    "                ### Get Points of Segment of Lot Polygon Closest to Street\n",
    "                cmd =   \"\"\" SELECT ( st_dumppoints( st_geomfromtext('%(1)s') )).geom\"\"\".replace('\\n','')%{'1':str(perim_line)}\n",
    "                points = gd.read_postgis(cmd,engine).geom\n",
    "                t1,t2={},{}\n",
    "                for j in range(1,len(points)):\n",
    "                    poly_seg_pts=points[j-1],points[j]\n",
    "                    dist_from_street = pd.read_sql(\"\"\"  select\n",
    "                                                        st_distance(\n",
    "                                                           st_geomfromtext(' %(start_pt)s '),\n",
    "                                                           st_geomfromtext(' %(street)s '))\n",
    "                                                           +\n",
    "                                                        st_distance(\n",
    "                                                           st_geomfromtext(' %(end_pt)s '),\n",
    "                                                           st_geomfromtext(' %(street)s '))\n",
    "                                                        dist\n",
    "                                                    \"\"\".replace('\\n','')%{'start_pt':str(poly_seg_pts[0]),\n",
    "                                                                          'end_pt' : str(poly_seg_pts[1]),\n",
    "                                                                          'street' : LINE},engine)\n",
    "                    t1.update({j:dist_from_street.dist[0]})\n",
    "                    t2.update({j:poly_seg_pts})\n",
    "                closest_seg_pts = t2[t1.values().index(min(t1.values()))+1]\n",
    "\n",
    "                ### Lot Segment MidPoint\n",
    "                lot_seg_mid_pt = gd.read_postgis(\"\"\"   SELECT ST_Line_Interpolate_Point(st_makeline(ptA,ptB),0.5) geom\n",
    "                                                        FROM\n",
    "                                                            st_geomfromtext(' %(start_pt)s ') ptA,\n",
    "                                                            st_geomfromtext(' %(end_pt)s ') ptB\n",
    "                                                \"\"\".replace('\\n','')%{'start_pt': str(closest_seg_pts[0]),\n",
    "                                                                      'end_pt'  : str(closest_seg_pts[1]),\n",
    "                                                                      'street'  : LINE},engine)\n",
    "\n",
    "                if show_steps==True: A.append(lot_seg_mid_pt.geom[0])\n",
    "\n",
    "                ### Closest Point in Street\n",
    "                street_seg_mid_pt = gd.read_postgis(\"\"\"\n",
    "                    SELECT ST_ClosestPoint(\n",
    "                        st_geomfromtext(' %(street)s '),\n",
    "                        st_geomfromtext(' %(mid_pt)s ')) geom\n",
    "                    \"\"\".replace('\\n','')%{'mid_pt'  : str(lot_seg_mid_pt.geom[0].to_wkt()),\n",
    "                                          'street'  : LINE},engine)\n",
    "                #A.append(street_seg_mid_pt.geom[0])\n",
    "\n",
    "                ### Absolute Angle of Segment (12=0 deg.,6=180 deg.)\n",
    "                seg_angle = pd.read_sql(\"\"\"     SELECT ST_Azimuth(ptA,ptB) ang\n",
    "                                                FROM\n",
    "                                                            st_geomfromtext(' %(start_pt)s ') ptA,\n",
    "                                                            st_geomfromtext(' %(end_pt)s ') ptB\n",
    "                                                \"\"\".replace('\\n','')%{'start_pt': str(closest_seg_pts[0]),\n",
    "                                                                      'end_pt'  : str(closest_seg_pts[1])},engine).ang[0]\n",
    "\n",
    "                ### Point on Street that Intersects with perp. line extending from Poly Segment Midpoint\n",
    "                this_lot_pt = gd.read_postgis(\"\"\"\n",
    "                    SELECT ( st_dumppoints( st_intersection( street, st_makeline(\n",
    "                        st_makeline(mid_pt::geometry(Point,4326),ptA::geometry(Point,4326)),\n",
    "                        st_makeline(mid_pt::geometry(Point,4326),ptB::geometry(Point,4326))))  )).geom\n",
    "                    FROM\n",
    "                        st_geomfromtext(' %(mid_pt)s ', 4326) mid_pt,\n",
    "                        st_geomfromtext(' %(street)s ', 4326) street,\n",
    "                        st_geomfromtext(' %(line_seg_pt)s ', 4326) line_seg_pt,\n",
    "                        ST_Distance_Spheroid(mid_pt,line_seg_pt,\n",
    "                            'SPHEROID[\"WGS 84\",6378137,298.257223563]') dist,\n",
    "                        ST_Project(mid_pt,dist+(dist*1.1),%(ang1)s) ptA,\n",
    "                        ST_Project(mid_pt,dist+(dist*1.1),%(ang2)s) ptB\n",
    "                                                \"\"\".replace('\\n','')%{'mid_pt' : str(lot_seg_mid_pt.geom[0].to_wkt()),\n",
    "                                                                      'line_seg_pt' : str(street_seg_mid_pt.geom[0].to_wkt()),\n",
    "                                                                      'street'  : LINE,\n",
    "                                                                      'ang1' : str(deg_to_rad(90-(360-rad_to_deg(seg_angle)))),\n",
    "                                                                      'ang2' : str(deg_to_rad(270-(360-rad_to_deg(seg_angle))))},\n",
    "                                              engine).geom\n",
    "            #\n",
    "                if len(this_lot_pt)==0 or len(lot.geom)>1:\n",
    "                    print 'skipping lot:',lots.bbl.tolist()[i]\n",
    "                    if len(lot.geom)>1:\n",
    "                        print '\\t\\tabove too much for single lot'\n",
    "                else:\n",
    "\n",
    "                    if show_some_detail==True: A.append(this_lot_pt[0]) # taking first value...\n",
    "                    lot_pts.append({'bbl':bbl,\n",
    "                                    'geom':this_lot_pt[0]})\n",
    "\n",
    "                    ### Line Connecting Lot to Street\n",
    "                    line_lot_to_street = gd.read_postgis(\"\"\"\n",
    "                        SELECT ST_ShortestLine(lot_pt,mid_pt) geom\n",
    "                        FROM\n",
    "                            st_geomfromtext(' %(lot_pt)s ',4326) lot_pt,\n",
    "                            st_geomfromtext(' %(mid_pt)s ',4326) mid_pt\n",
    "                        \"\"\".replace('\\n','')%{'mid_pt'  : str(lot_seg_mid_pt.geom[0].to_wkt()),\n",
    "                                              'lot_pt'  : this_lot_pt[0]},engine)\n",
    "            #\n",
    "                    if len(line_lot_to_street.geom)>1:\n",
    "                        gd.GeoSeries(line_lot_to_street.geom).plot()\n",
    "                        print 'too much for Line Connecting Lot to Street'\n",
    "                        raise SystemError\n",
    "                    if show_some_detail==True: A.append(line_lot_to_street.geom[0])\n",
    "\n",
    "\n",
    "            if show_some_detail==True:\n",
    "                d=gd.GeoSeries(A).plot(fig_size=(26,22),\n",
    "                                       save_fig_path=save_fig_path,\n",
    "                                       save_and_show=False)\n",
    "\n",
    "            if show_some_detail==True: me = raw_input('y?')\n",
    "            else: me='y'\n",
    "\n",
    "            if (me=='y' or me=='yq') and lot_pts!=[]:\n",
    "                c = gd.GeoDataFrame(lot_pts)\n",
    "                d=[]\n",
    "                dev=[d.extend(zip(*it.coords.xy)) for it in c.geom]\n",
    "                D = pd.DataFrame({'bbl':c.bbl.tolist(),'xy':d})\n",
    "                D['x'],D['y'] = zip(*D.xy)\n",
    "                D.to_sql('temp',engine,if_exists='append')\n",
    "\n",
    "                print 'added street_name\\t',street_name,'with',len(lot_pts),'lots'\n",
    "                if me=='yq': raise SystemError\n",
    "                else:\n",
    "                    lot_pts,A,skip = [],[],False\n",
    "                    plt.clf()\n",
    "            else:\n",
    "                if me!='y': raise SystemExit\n",
    "\n",
    "\n",
    "engine.execute(\"\"\"\n",
    "UPDATE lot_pts l\n",
    "SET geom = st_setsrid(st_makepoint(t.x,t.y),4326) \n",
    "FROM temp t \n",
    "WHERE l.bbl = t.bbl\n",
    "\"\"\")\n",
    "print 'DONE!'\n",
    "\n"
   ]
  },
  {
   "cell_type": "code",
   "execution_count": null,
   "metadata": {
    "code_folding": [
     0
    ],
    "collapsed": true
   },
   "outputs": [],
   "source": [
    "### Added index for fuzzystrmatch\n",
    "\n",
    "    CREATE INDEX idx_places_sndx_loc_name ON address_idx USING btree (soundex(addr));"
   ]
  },
  {
   "cell_type": "code",
   "execution_count": null,
   "metadata": {
    "code_folding": [
     0
    ],
    "collapsed": true
   },
   "outputs": [],
   "source": [
    "### Get all MN zipcodes\n",
    "py_path.append(abspath(workDir+'../../html'))\n",
    "import HTML_API as H\n",
    "\n",
    "from urllib import urlopen\n",
    "src = 'http://www.newyorkzipcodes.com/city-manhattan/default.aspx'\n",
    "p = urlopen(src)\n",
    "x = p.read()\n",
    "# print x\n",
    "\n",
    "h = H.getSoup(x)\n",
    "z = h.findAll('table',attrs={'width':\"100%\",'border':\"0\",'cellpadding':\"2\"})[0]\n",
    "# print z.prettify()\n",
    "mn_zipcodes = []\n",
    "for it in z.findAll('td'):\n",
    "    t = it.contents[0]\n",
    "    try:\n",
    "        if len(t.strip())==5:\n",
    "            mn_zipcodes.append(int(t))\n",
    "    except: pass\n",
    "str(sorted(mn_zipcodes))"
   ]
  },
  {
   "cell_type": "code",
   "execution_count": null,
   "metadata": {
    "code_folding": [
     0
    ],
    "collapsed": false
   },
   "outputs": [],
   "source": [
    "### Check for missing ways in address_idx\n",
    "T.update( {'ways_tbl' : 'lws',             # %(ways_tbl)s\n",
    "           'addr_idx' : 'address_idx',     # %(addr_idx)s\n",
    "           } )\n",
    "\n",
    "#  'debug': True,\n",
    "#  'growl_notice': True,\n",
    "#  'guid': '99fff11',\n",
    "#  'oldest_comments': '270',\n",
    "#  'tmp_tbl': 'tmp_99fff11',\n",
    "#  'today': datetime.datetime(2015, 3, 5, 13, 55, 19, 546317),\n",
    "#  'transcation_cnt': '100',\n",
    "#  'user': 'ub2',\n",
    "\n",
    "\n",
    "chk_for_missing_ways_in_address_idx=\"\"\"\n",
    "\n",
    "SELECT count(*) \n",
    "\n",
    "from\n",
    "--    %(ways_tbl)s t,\n",
    "    %(addr_idx)s t,\n",
    "    (select array_agg(distinct w.street) all_w_streets from %(ways_tbl)s w) as f1\n",
    "--    (select array_agg(distinct idx.street) all_idx_streets from %(addr_idx)s idx) as f2\n",
    "\n",
    "WHERE all_w_streets && array[t.street]\n",
    "--WHERE all_idx_streets && array[t.street]\n",
    "\n",
    "\n",
    "\"\"\" % T\n",
    "%sql postgres@routing $chk_for_missing_ways_in_address_idx"
   ]
  },
  {
   "cell_type": "code",
   "execution_count": null,
   "metadata": {
    "code_folding": [
     0
    ],
    "collapsed": false
   },
   "outputs": [],
   "source": [
    "### PROVE ALL STREETS IN WAY TABLE ARE IN ADDRESS_IDX\n",
    "\n",
    "a=pd.read_sql(\"\"\" SELECT count(distinct t.street) cnt\n",
    "                  FROM \n",
    "                      %(ways_tbl)s t,\n",
    "                      (select array_agg(distinct idx.street) all_idx_streets from %(addr_idx)s idx) as f2\n",
    "                  WHERE not all_idx_streets && array[t.street]\n",
    "              \"\"\" % T,routing_eng).cnt[0]\n",
    "\n",
    "addrs_in_way_tbl_but_not_isx_tbl = a\n",
    "try:\n",
    "    assert addrs_in_way_tbl_but_not_isx_tbl==0\n",
    "except AssertionError:\n",
    "#     add_streets_to_addr_ixs(T['ways_tbl'])\n",
    "#     process_street_names_and_update_idx()\n",
    "#     re_run_this_test()\n",
    "    print 'OK'\n",
    "\n"
   ]
  },
  {
   "cell_type": "markdown",
   "metadata": {},
   "source": [
    "## Other Tables"
   ]
  },
  {
   "cell_type": "code",
   "execution_count": null,
   "metadata": {
    "code_folding": [
     0
    ],
    "collapsed": false
   },
   "outputs": [],
   "source": [
    "# Table Creation Libraries\n",
    "\n",
    "from os                             import environ          as os_environ\n",
    "from os                             import path             as os_path\n",
    "from sys                            import path             as py_path\n",
    "py_path.append(                     os_path.join(os_environ['BD'],'geolocation'))\n",
    "from f_postgres import Tables\n",
    "T = Tables()"
   ]
  },
  {
   "cell_type": "code",
   "execution_count": null,
   "metadata": {
    "code_folding": [
     0
    ],
    "collapsed": true
   },
   "outputs": [],
   "source": [
    "### __ create mnv (restaurant inspection results)\n",
    "m = pd.read_excel('https://data.cityofnewyork.us/api/views/xx67-kt59/rows.xls?accessType=DOWNLOAD')\n",
    "# was not available 2014.11.19@08:00:00-0500\n",
    "\n",
    "c=\"\"\"\n",
    "DROP TABLE IF EXISTS mnv;\n",
    "\n",
    "CREATE TABLE mnv (\n",
    "    building text,\n",
    "    camis double precision,\n",
    "    vend_name text,\n",
    "    clean_street text,\n",
    "    cuisinecode double precision,\n",
    "    dba text,\n",
    "    inspdate timestamp without time zone,\n",
    "    street text,\n",
    "    zipcode double precision,\n",
    "    id integer primary key,\n",
    "    recog_street boolean,\n",
    "    recog_addr boolean DEFAULT false,\n",
    "    bbl integer,\n",
    "    phone bigint,\n",
    "    norm_addr text,\n",
    "    seamless_id bigint,\n",
    "    yelp_id text,\n",
    "    address text,\n",
    "    geom geometry(Point,4326),\n",
    "    lot_cnt integer DEFAULT 1\n",
    "  );\n",
    "\n",
    "UPDATE mnv SET id = nextval(pg_get_serial_sequence('mnv','id'));\n",
    "\"\"\""
   ]
  },
  {
   "cell_type": "code",
   "execution_count": null,
   "metadata": {
    "code_folding": [
     0
    ],
    "collapsed": true
   },
   "outputs": [],
   "source": [
    "### __ create scrape_lattice (~ about 2 min)\n",
    "\n",
    "T.make_scrape_lattice(pt_buff_in_miles=0.075,lattice_table_name='yelp_lattice_table')\n"
   ]
  },
  {
   "cell_type": "code",
   "execution_count": null,
   "metadata": {
    "code_folding": [
     0
    ],
    "collapsed": true
   },
   "outputs": [],
   "source": [
    "### __ create pluto centroids table\n",
    "conn.set_isolation_level(0)\n",
    "cur.execute(\"\"\"\n",
    "    drop table if exists pluto_centroids;\n",
    "\n",
    "    create table pluto_centroids (\n",
    "        pc_gid serial primary key,\n",
    "        p_gid integer,\n",
    "        bbl numeric,\n",
    "        geom geometry(Point,4326)\n",
    "        );\n",
    "\n",
    "    UPDATE pluto_centroids \n",
    "    SET pc_gid = nextval(pg_get_serial_sequence('pluto_centroids','pc_gid'));\n",
    " \n",
    "    INSERT INTO pluto_centroids (p_gid,geom,bbl)\n",
    "    SELECT p.gid,st_centroid(p.geom),p.bbl\n",
    "    FROM pluto p;\n",
    "\n",
    "                \"\"\")"
   ]
  },
  {
   "cell_type": "code",
   "execution_count": null,
   "metadata": {
    "code_folding": [
     0
    ],
    "collapsed": true
   },
   "outputs": [],
   "source": [
    "### __ create 'geocoded'\n",
    "cmd=\"\"\"\n",
    "CREATE TABLE geocoded\n",
    "(\n",
    "    id serial primary key,\n",
    "    addr_valid boolean,\n",
    "    form_addr text,\n",
    "    geometry text,\n",
    "    orig_addr text,\n",
    "    partial_match boolean,\n",
    "    res_data text,\n",
    "    res_i bigint,\n",
    "    lat double precision,\n",
    "    lon double precision,\n",
    "    seamless_id bigint,\n",
    "    yelp_id bigint,\n",
    "    mnv_id bigint,\n",
    "    bbl numeric(10),\n",
    "    lot_idx numeric(10,5)\n",
    ");\n",
    "\n",
    "update geocoded set id = nextval(pg_get_serial_sequence('geocoded','id'));\n",
    "\"\"\"\n",
    "conn.set_isolation_level(0)\n",
    "cur.execute(cmd)"
   ]
  },
  {
   "cell_type": "code",
   "execution_count": null,
   "metadata": {
    "code_folding": [
     0
    ],
    "collapsed": true
   },
   "outputs": [],
   "source": [
    "### __ created lot_pts\n",
    "\n",
    "Ran this in pgAdmin3:\n",
    "\n",
    "    table lot_pts as \n",
    "    select p.Borough,p.Block,p.Lot,p.Address,l.SegmentID,l.Street \n",
    "    from pluto p \n",
    "    inner join lion_ways l \n",
    "    on l.Street ~* p.Address\n",
    "    \n",
    "    ALTER TABLE lot_pts ADD COLUMN id SERIAL;\n",
    "    UPDATE lot_pts SET id = nextval(pg_get_serial_sequence('lot_pts','id'));\n",
    "    ALTER TABLE lot_pts ADD PRIMARY KEY (id);\n",
    "\n",
    "    \n",
    "    create table lot_pts (\n",
    "        Borough\t\tcharacter varying(2),\n",
    "        Block \t\tinteger,\n",
    "        Lot \t\tsmallint,\n",
    "        bldg_num \tinteger,\n",
    "        bldg_street \tcharacter varying(28),\n",
    "        Address \tcharacter varying(28),\n",
    "        SegmentID \tcharacter varying(254),\n",
    "        Street \t\tcharacter varying(254),\n",
    "        CONSTRAINT bbl PRIMARY KEY(Borough,Block,Lot)\n",
    "    );"
   ]
  },
  {
   "cell_type": "code",
   "execution_count": null,
   "metadata": {
    "code_folding": [
     0
    ],
    "collapsed": true
   },
   "outputs": [],
   "source": [
    "### __ create the topology:\n",
    "engine.execute(\"\"\"\n",
    "    SELECT pgr_createTopology('lion_ways_slim', 0.0005, 'geom', 'gid');\n",
    "    REINDEX INDEX lion_slim_source_idx;\n",
    "    REINDEX INDEX lion_slim_target_idx;\n",
    "    \"\"\")"
   ]
  },
  {
   "cell_type": "markdown",
   "metadata": {},
   "source": [
    "# Custom PostGIS Functions"
   ]
  },
  {
   "cell_type": "code",
   "execution_count": null,
   "metadata": {
    "code_folding": [
     0
    ],
    "collapsed": true
   },
   "outputs": [],
   "source": [
    "### Hausdorff Distance\n",
    "coords = zip(*lot.boundary[0].coords.xy)\n",
    "for i in range(1,len(coords)):\n",
    "\n",
    "    print i,pd.read_sql(\"\"\"\n",
    "    SELECT \n",
    "        st_HausdorffDistance(\n",
    "            st_MakeLine(\n",
    "                st_MakePoint( %(x1y1)s ),\n",
    "                st_MakePoint( %(x2y2)s )),\n",
    "            st_geomfromtext(' %(street)s ') ) dist;\n",
    "    \"\"\".replace('\\n','').replace('\\t','')%{  \t'street':str(tmp_part_line.geom[0]),\n",
    "            'x1y1' : str(coords[i-1]).strip('()'),\n",
    "            'x2y2' : str(coords[i]).strip('()')},\n",
    "    engine).dist[0]"
   ]
  },
  {
   "cell_type": "code",
   "execution_count": null,
   "metadata": {
    "code_folding": [
     0
    ],
    "collapsed": true
   },
   "outputs": [],
   "source": [
    "### Azimuth Angles\n",
    "coords = zip(*lot.boundary[0].coords.xy)\n",
    "for i in range(1,len(coords)):\n",
    "\n",
    "\tprint i,pd.read_sql(\"\"\"\n",
    "\tSELECT \n",
    "    \tST_Azimuth(\n",
    "            \tst_MakePoint( %(x1y1)s ),\n",
    "            \tst_MakePoint( %(x2y2)s )) seg_ang,\n",
    "        ST_Azimuth(\n",
    "        \tST_StartPoint( st_geomfromtext(' %(street)s ',4326) ),\n",
    "            ST_EndPoint( st_geomfromtext(' %(street)s ',4326) )) street_ang\n",
    "\t\"\"\".replace('\\t','').replace('\\n','')%{  \t\n",
    "            'street':str(tmp_part_line.geom[0]),\n",
    "        \t'x1y1' : str(coords[i-1]).strip('()'),\n",
    "        \t'x2y2' : str(coords[i]).strip('()')\n",
    "    },\tengine)\n",
    "\n",
    "    \n",
    "plt.clf()\n",
    "A=[]\n",
    "#A.append(line_lot_to_street.geom[0])\n",
    "#A.append(this_lot_pt[0])\n",
    "A.append(lot_seg_mid_pt.geom[0])\n",
    "#A.append(lot.geom[0])\n",
    "#A.append(lot.boundary[0])\n",
    "A.extend(tmp_part_line.geom)\n",
    "A.extend(gd.read_postgis(\"\"\"\n",
    "\tSELECT st_MakeLine(\n",
    "        st_MakePoint( %(x1y1)s ),\n",
    "        st_MakePoint( %(x2y2)s )) geom\n",
    "\t\"\"\".replace('\\n','').replace('\\t','')%{\n",
    "        \t'x1y1' : str(coords[7]).strip('()'),\n",
    "        \t'x2y2' : str(coords[2]).strip('()')},\n",
    "\tengine).geom)\n",
    "gd.GeoSeries(A).plot()\n",
    "\n",
    "\n",
    "\n",
    "# In[1]:"
   ]
  },
  {
   "cell_type": "code",
   "execution_count": null,
   "metadata": {
    "code_folding": [
     0
    ],
    "collapsed": true
   },
   "outputs": [],
   "source": [
    "### Plot Geoms Using z_get_way_box\n",
    "A = []\n",
    "A.extend(gd.read_postgis(\"select z_get_way_box('14 st','10 ave','59 st','1 ave') geom\",routing_eng).geom)\n",
    "# A.extend(gd.read_postgis(\"select ST_MinimumBoundingCircle(z_get_way_box('14 st','10 ave','59 st','1 ave')) geom\",engine).geom)\n",
    "# A.extend(\n",
    "#     gd.read_postgis(\"\"\"\n",
    "#     select st_closestpoint(st_intersection(st_buffer(ST_SetSRID(pt,4326)::geometry,.003),nodes) ,pt) geom\n",
    "#     from\n",
    "#         (select ST_SetSRID(st_geomfromtext('POINT (-73.97832978915525 40.75142795208318)'),4326)::geometry pt) as t1,\n",
    "#         (select the_geom nodes from mn_ways_vertices_pgr) as t2\n",
    "#         \"\"\".replace('\\n',''),routing_eng).geom)\n",
    "# A.extend(g.geom)  ## combined numbered streets (e/w)\n",
    "# A.extend(gd.GeoDataFrame(save_for_later).geom)  ## numbered streets not combined"
   ]
  },
  {
   "cell_type": "code",
   "execution_count": null,
   "metadata": {
    "code_folding": [
     0
    ],
    "collapsed": true
   },
   "outputs": [],
   "source": [
    "### __ MN_VERTICES IN BOX\n",
    "cmd =   \"\"\"\n",
    "        select the_geom geom \n",
    "        from \n",
    "        \n",
    "            mn_ways_vertices_pgr,\n",
    "            \n",
    "            (select z_get_way_box('14 st','10 ave','59 st','1 ave') box_geom) as t\n",
    "        where st_within(the_geom,box_geom)\n",
    "        \"\"\".replace('\\n',' ')\n",
    "# A.extend(gd.read_postgis(cmd,routing_eng).geom)"
   ]
  },
  {
   "cell_type": "code",
   "execution_count": null,
   "metadata": {
    "code_folding": [
     0
    ],
    "collapsed": true
   },
   "outputs": [],
   "source": [
    "### __ MN_WAYS IN BOX\n",
    "cmd =   \"\"\"\n",
    "        select st_intersection(m.the_geom,box_geom) geom \n",
    "        from \n",
    "            (select z_get_way_box('14 st','10 ave','59 st','1 ave') box_geom) as t,\n",
    "            \n",
    "            mn_ways m\n",
    "            \n",
    "        \"\"\".replace('\\n',' ')\n",
    "A.extend(gd.read_postgis(cmd,routing_eng).geom)"
   ]
  },
  {
   "cell_type": "code",
   "execution_count": null,
   "metadata": {
    "code_folding": [
     0
    ],
    "collapsed": true
   },
   "outputs": [],
   "source": [
    "### __ AVENUES IN BOX\n",
    "cmd =   \"\"\"\n",
    "        select st_intersection(geom,box_geom) geom \n",
    "        from \n",
    "            address_idx,\n",
    "            (select z_get_way_box('14 st','10 ave','59 st','1 ave') box_geom) as t\n",
    "        where geom is not null and street ~* 'ave'\"\"\".replace('\\n',' ')\n",
    "A.extend(gd.read_postgis(cmd,routing_eng).geom)"
   ]
  },
  {
   "cell_type": "code",
   "execution_count": null,
   "metadata": {
    "code_folding": [
     0
    ],
    "collapsed": true
   },
   "outputs": [],
   "source": [
    "### __ SL VENDORS IN BOX\n",
    "cmd =   \"\"\"\n",
    "        select st_intersection(geom,box_geom) geom \n",
    "        from \n",
    "            seamless,\n",
    "            (select z_get_way_box('14 st','10 ave','59 st','1 ave') box_geom) as t\n",
    "        where geom is not null\"\"\".replace('\\n',' ')\n",
    "A.extend(gd.read_postgis(cmd,routing_eng).geom)\n",
    "\n",
    "# geom_inside_street_box(ways,geom_table,geom_label,table_cols=None,conditions=None)"
   ]
  },
  {
   "cell_type": "code",
   "execution_count": null,
   "metadata": {
    "code_folding": [
     0
    ],
    "collapsed": false
   },
   "outputs": [],
   "source": [
    "### (cont'd,other) Plot Geoms Using z_get_way_box\n",
    "A=[]\n",
    "pluto_as_single_poly=\"\"\"\n",
    "SELECT ST_Buffer(ST_ConvexHull((ST_Collect(the_geom))), 0.0005) as geom\n",
    "FROM ( \n",
    "    SELECT (ST_Dump( unnest(  all_pluto_geoms ) )).geom the_geom \n",
    "    from (select array_agg(p.geom) all_pluto_geoms from pluto p) as fi1\n",
    "      ) as t\n",
    "\"\"\"\n",
    "A.extend(gd.read_postgis(pluto_as_single_poly,routing_eng).geom)\n",
    "\n",
    "all_yelp_scrape=\"\"\"\n",
    "SELECT geom from yelp_scrape_lattice;\n",
    "\"\"\"\n",
    "A.extend(gd.read_postgis(all_yelp_scrape,routing_eng).geom)\n",
    "%matplotlib inline\n",
    "gd.GeoSeries(A).plot(alpha=0.1)"
   ]
  },
  {
   "cell_type": "markdown",
   "metadata": {},
   "source": [
    "# Useful SQL/PG SQL Queries"
   ]
  },
  {
   "cell_type": "code",
   "execution_count": null,
   "metadata": {
    "collapsed": true
   },
   "outputs": [],
   "source": [
    "Get PostGIS version:\n",
    "\n",
    "    SELECT PostGIS_full_version();\n",
    "\n",
    "Get GPS Coordinates:\n",
    "\n",
    "    SELECT ST_X(geom), ST_Y(geom), ST_AsText(geom) FROM lion_nodes LIMIT 1;\n",
    "\n",
    "Create Topology for lion_ways:\n",
    "\n",
    "    ALTER TABLE lion_ways ADD COLUMN \"source\" integer;\n",
    "    ALTER TABLE lion_ways ADD COLUMN \"target\" integer;\n",
    "    SELECT pgr_createTopology('lion_ways', 0.00001, 'geom', 'gid');\n",
    "    CREATE INDEX lion_source_idx ON lion_ways(\"source\");\n",
    "    CREATE INDEX lion_target_idx ON lion_ways(\"target\");\n",
    "\n",
    "Add Routing Prerequisites:\n",
    "\n",
    "    ALTER TABLE lion_ways ADD COLUMN reverse_cost double precision;\n",
    "    UPDATE lion_ways SET reverse_cost = shape_leng;\n",
    "\n",
    "\n",
    "Get data with street name containing 'madison':\n",
    "\n",
    "    SELECT * from lion_ways where lion_ways.street ~* 'madison';\n",
    "    SELECT * from pluto where pluto.address ~* 'madison' limit 1;\n",
    "\n",
    "Copy from Pandas Import Table to Pluto:\n",
    "\n",
    "    UPDATE pluto SET bldg_num = 0;\n",
    "    update pluto set bldg_num = info.bldg_num\n",
    "        from pluto_info info where info.gid = pluto.gid;\n",
    "\n",
    "    UPDATE pluto SET bldg_street = '';\n",
    "    update pluto set bldg_street = info.bldg_street\n",
    "        from pluto_info info where info.gid = pluto.gid;"
   ]
  },
  {
   "cell_type": "markdown",
   "metadata": {},
   "source": [
    "# Useful PostGIS Functions:"
   ]
  },
  {
   "cell_type": "markdown",
   "metadata": {},
   "source": [
    "## Conversion Functions"
   ]
  },
  {
   "cell_type": "code",
   "execution_count": null,
   "metadata": {
    "code_folding": [],
    "collapsed": true
   },
   "outputs": [],
   "source": [
    "    multi-poly to poly:\n",
    "\n",
    "        select ST_AsText((ST_Dump(pluto.geom)).geom) from pluto where block=860 and lot=26 limit 100;\n",
    "    \n",
    "    \n",
    "    Linear Referencing\n",
    "\n",
    "        float ST_LineLocatePoint(geometry a_linestring, geometry a_point);"
   ]
  },
  {
   "cell_type": "markdown",
   "metadata": {},
   "source": [
    "## Geometry Constructors"
   ]
  },
  {
   "cell_type": "code",
   "execution_count": null,
   "metadata": {
    "collapsed": true
   },
   "outputs": [],
   "source": [
    "Polygon geometry ST_BdPolyFromText(text WKT MultiLineString, integer srid)\n",
    "    \n",
    "    MultiPolygon geometry ST_BdMPolyFromText(text WKT MultiLineString, integer srid);\n",
    "    \n",
    "    geometry ST_GeomCollFromText(text WKT, integer srid); \n",
    "    geometry ST_GeomCollFromText(text WKT);\n",
    "    \n",
    "    geometry ST_GeomFromText(text WKT);\n",
    "    geometry ST_GeomFromText(text WKT, integer srid);\n",
    "    \n",
    "    geometry ST_GeomFromGeoJSON(text geomjson);\n",
    "    \n",
    "    geometry ST_LineFromMultiPoint(geometry aMultiPoint);\n",
    "    \n",
    "    geometry ST_LineFromText(text WKT);\n",
    "    geometry ST_LineFromText(text WKT, integer srid);\n",
    "    \n",
    "        SELECT ST_LineFromText(’LINESTRING(1 2, 3 4)’) AS aline, ST_LineFromText(’POINT(1 2)’) AS null_return;\n",
    "\n",
    "    box2d ST_MakeBox2D(geometry pointLowLeft, geometry pointUpRight);\n",
    "    \n",
    "        SELECT feature_id, feature_name, the_geom\n",
    "        FROM features\n",
    "        WHERE the_geom && ST_SetSRID(ST_MakeBox2D(ST_Point(-989502.1875, 528439.5625),\n",
    "          ST_Point(-987121.375 ,529933.1875)),2163)\n",
    "\n",
    "    point-or-line geometry ST_MakeLine(geometry set geoms);\n",
    "    array of point-or-lines geometry ST_MakeLine(geometry geom1, geometry geom2); \n",
    "    two point-or-line geometry ST_MakeLine(geometry[] geoms_array);\n",
    "    \n",
    "    closed lines geometry ST_MakePolygon(geometry linestring);\n",
    "    closed lines geometry ST_MakePolygon(geometry outerlinestring, geometry[] interiorlinestrings);\n",
    "    \n",
    "    geometry ST_MakePoint(double precision x, double precision y);\n",
    "    \n",
    "    geometry ST_MakePointM(float x, float y, float m);\n",
    "    \n",
    "    geometry ST_MLineFromText(text WKT, integer srid); \n",
    "    geometry ST_MLineFromText(text WKT);\n",
    "\n",
    "    ST_MPointFromText\n",
    "    ST_MPolyFromText\n",
    "    \n",
    "    geometry ST_Point(float x_lon, float y_lat);\n",
    "    \n",
    "    geometry ST_PointFromText(text WKT);\n",
    "    geometry ST_PointFromText(text WKT, integer srid);\n",
    "    \n",
    "    geometry ST_PolygonFromText(text WKT);\n",
    "    geometry ST_PolygonFromText(text WKT, integer srid);\n",
    "    \n",
    "    text GeometryType(geometry geomA);\n",
    "        #returns geom_type as text\n",
    "    text ST_GeometryType(geometry g1);\n",
    "        # returns string with \"ST_\"\n",
    "        \n",
    "    geometry ST_Boundary(geometry geomA);\n",
    "    \n",
    "    geometry ST_StartPoint(geometry geomA);\n",
    "    \n",
    "    boolean ST_EndPoint(geometry g);\n",
    "        # returns linestring endpoint\n",
    "        SELECT ST_AsText(ST_EndPoint(’LINESTRING(1 1, 2 2, 3 3)’::geometry));\n",
    "    \n",
    "    geometry ST_Envelope(geometry g1);\n",
    "        #Returns the float8 minimum bounding box for the supplied geometry, as a geometry. \n",
    "        #The polygon is defined by the corner points of the bounding box \n",
    "        #((MINX, MINY), (MINX, MAXY), (MAXX, MAXY), (MAXX, MINY), (MINX, MINY)).\n",
    "    \n",
    "    linestring geometry ST_ExteriorRing(geometry a_polygon);\n",
    "        #polygon only\n",
    "    \n",
    "    linestring geometry ST_InteriorRingN(geometry a_polygon, integer n);\n",
    "    \n",
    "    boolean ST_IsClosed(geometry g);\n",
    "    \n",
    "    boolean ST_IsCollection(geometry g);\n",
    "        • GEOMETRYCOLLECTION\n",
    "        • MULTI{POINT,POLYGON,LINESTRING,CURVE,SURFACE} \n",
    "        • COMPOUNDCURVE\n",
    "    \n",
    "    boolean ST_IsEmpty(geometry geomA);\n",
    "    \n",
    "    boolean ST_IsRing(geometry g);\n",
    "        Returns TRUE if this LINESTRING is both \n",
    "        ST_IsClosed (ST_StartPoint((g)) ~= ST_Endpoint((g))) and \n",
    "        ST_IsSimple (does not self intersect).\n",
    "    \n",
    "    boolean ST_IsSimple(geometry geomA);\n",
    "        #no anomalous geometric points, such as self intersection or self tangency\n",
    "    \n",
    "    float ST_M(geometry a_point);\n",
    "    \n",
    "    integer ST_NPoints(geometry g1);\n",
    "        #Return the number of points (vertexes) in a geometry.\n",
    "    \n",
    "    integer ST_NumPoints(geometry g1);\n",
    "        #number of points in an ST_LineString or ST_CircularString value.\n",
    "    \n",
    "    geometry ST_PointN(geometry a_linestring, integer n);\n",
    "        #NULL if there is no linestring in the geometry.\n",
    "    \n",
    "    text ST_Summary(geometry g);\n",
    "    \n",
    "    float ST_X(geometry a_point);"
   ]
  },
  {
   "cell_type": "markdown",
   "metadata": {},
   "source": [
    "## Geometry Editors"
   ]
  },
  {
   "cell_type": "code",
   "execution_count": null,
   "metadata": {
    "collapsed": true
   },
   "outputs": [],
   "source": [
    "    geometry ST_RemovePoint(geometry linestring, integer offset);\n",
    "    geometry ST_AddPoint(geometry linestring, geometry point);\n",
    "    geometry ST_AddPoint(geometry linestring, geometry point, integer position);\n",
    "        Adds a point to a LineString before point <position> (0-based index). \n",
    "        Third parameter can be omitted or set to -1 for appending.\n",
    "        \n",
    "    [ LineStrings ] geometry ST_LineMerge(geometry amultilinestring);\n",
    "    \n",
    "    geometry ST_CollectionHomogenize(geometry collection);\n",
    "    \n",
    "    geometry ST_Multi(geometry g1);\n",
    "        # g1 --> ST_GeomFromText\n",
    "    \n",
    "    geometry ST_Reverse(geometry g1);\n",
    "    \n",
    "    geometry ST_Segmentize(geometry geom, float max_segment_length);\n",
    "    \n",
    "    geometry ST_SetPoint(geometry linestring, integer zerobasedposition, geometry point);\n",
    "    \n",
    "    geometry ST_Snap(geometry input, geometry reference, float tolerance);\n",
    "        # vertices and segments of a geometry with another Geometry’s vertices\n",
    "    \n",
    "    geometry ST_TransScale(geometry geomA, float deltaX, float deltaY, float XFactor, float YFactor);\n",
    "        Translates the geometry using the deltaX and deltaY args, \n",
    "        then scales it using the XFactor, YFactor args, working in 2D only."
   ]
  },
  {
   "cell_type": "markdown",
   "metadata": {},
   "source": [
    "## Geometry Outputs"
   ]
  },
  {
   "cell_type": "code",
   "execution_count": null,
   "metadata": {
    "collapsed": true
   },
   "outputs": [],
   "source": [
    "    text ST_AsEWKT(geometry g1);\n",
    "    \n",
    "    text ST_AsGeoJSON(geometry geom, integer maxdecimaldigits=15, integer options=0);\n",
    "    \n",
    "    text ST_AsText(geometry g1);\n",
    "    \n",
    "    text ST_AsLatLonText(geometry pt, text format='');\n",
    "        # Returns the Degrees, Minutes, Seconds representation of the point.\n",
    "        # SELECT (ST_AsLatLonText(’POINT (-3.2342342 -2.32498)’, ’D.DDDD degrees C’));"
   ]
  },
  {
   "cell_type": "markdown",
   "metadata": {},
   "source": [
    "## Operators"
   ]
  },
  {
   "cell_type": "code",
   "execution_count": null,
   "metadata": {
    "collapsed": true
   },
   "outputs": [],
   "source": [
    "Match \"&&\" \n",
    "    &&( geometry A , geometry B );\n",
    "    Overlap \"&<\",\">&\"\n",
    "    Overlap/below \"&<|\"\n",
    "    Strictly right/left \"<<\" \">>\"\n",
    "    *Equals \"=\" ONLY returns true if bounding box is same, geom NOT matter\n",
    "    Contained by \"@\"\n",
    "    Contains another \"~\"\n",
    "        ~( geometry A , geometry B );\n",
    "    Distance \"<->\"\n",
    "    Distance b/t bounding boxes \"<#>\""
   ]
  },
  {
   "cell_type": "markdown",
   "metadata": {},
   "source": [
    "## Relationships & Measurements"
   ]
  },
  {
   "cell_type": "code",
   "execution_count": null,
   "metadata": {
    "collapsed": true
   },
   "outputs": [],
   "source": [
    "    float ST_Area(geometry g1);\n",
    "    \n",
    "    geometry ST_Centroid(geometry g1);\n",
    "    \n",
    "    geometry ST_ClosestPoint(geometry g1, geometry g2);\n",
    "\n",
    "    boolean ST_Contains(geometry geomA, geometry geomB);\n",
    "    \n",
    "        A circle within a circle\n",
    "            SELECT ST_Contains(smallc, bigc) As smallcontainsbig,\n",
    "                 ST_Contains(bigc,smallc) As bigcontainssmall,\n",
    "                 ST_Contains(bigc, ST_Union(smallc, bigc)) as bigcontainsunion,\n",
    "                 ST_Equals(bigc, ST_Union(smallc, bigc)) as bigisunion,\n",
    "                 ST_Covers(bigc, ST_ExteriorRing(bigc)) As bigcoversexterior,\n",
    "                 ST_Contains(bigc, ST_ExteriorRing(bigc)) As bigcontainsexterior\n",
    "            FROM (SELECT ST_Buffer(ST_GeomFromText(’POINT(1 2)’), 10) As smallc,\n",
    "                   ST_Buffer(ST_GeomFromText(’POINT(1 2)’), 20) As bigc) As foo;\n",
    "\n",
    "    boolean ST_ContainsProperly(geometry geomA, geometry geomB);\n",
    "        \n",
    "        a circle within a circle\n",
    "            SELECT ST_ContainsProperly(smallc, bigc) As smallcontainspropbig, \n",
    "                ST_ContainsProperly(bigc,smallc) As bigcontainspropsmall,\n",
    "                ST_ContainsProperly(bigc, ST_Union(smallc, bigc)) as bigcontainspropunion, \n",
    "                ST_Equals(bigc, ST_Union(smallc, bigc)) as bigisunion,\n",
    "                ST_Covers(bigc, ST_ExteriorRing(bigc)) As bigcoversexterior, \n",
    "                ST_ContainsProperly(bigc, ST_ExteriorRing(bigc)) As bigcontainsexterior\n",
    "            FROM (SELECT ST_Buffer(ST_GeomFromText(’POINT(1 2)’), 10) As smallc, \n",
    "                ST_Buffer(ST_GeomFromText(’POINT(1 2)’), 20) As bigc) As foo;\n",
    "\n",
    "    boolean ST_CoveredBy(geometry geomA, geometry geomB);\n",
    "    boolean ST_Covers(geometry geomA, geometry geomB);\n",
    "        Returns 1 (TRUE) if no point in Geometry/Geography B is outside Geometry/Geography A\n",
    "        \n",
    "--    boolean ST_Crosses(geometry g1, geometry g2);*\n",
    "\n",
    "    integer ST_LineCrossingDirection(geometry linestringA, geometry linestringB);\n",
    "    \n",
    "    boolean ST_Disjoint( geometry A , geometry B );\n",
    "    \n",
    "    float ST_Distance(geometry g1, geometry g2);\n",
    "        # the 2-D minimum cartesian distance between two geometries in projected spatial ref units\n",
    "    \n",
    "    float ST_MaxDistance(geometry g1, geometry g2);\n",
    "        # SELECT ST_MaxDistance(’POINT(0 0)’::geometry, ’LINESTRING ( 2 0, 0 2 )’::geometry);\n",
    "    \n",
    "    boolean ST_DFullyWithin(geometry g1, geometry g2, double precision distance);\n",
    "        # Returns true if the geometries is fully within the specified distance of one another.\n",
    "    \n",
    "    boolean ST_Intersects( geometry geomA , geometry geomB );\n",
    "        # tolerance is 0.00001 meters (so any points that close are considered to intersect)\n",
    "    \n",
    "    float ST_Length(geometry a_2dlinestring);\n",
    "        # multilinestring too\n",
    "    \n",
    "    geometry ST_ShortestLine(geometry g1, geometry g2);\n",
    "    geometry ST_LongestLine(geometry g1, geometry g2);\n",
    "    \n",
    "    boolean ST_Overlaps(geometry A, geometry B);\n",
    "    \n",
    "    float ST_Perimeter(geometry g1);\n",
    "        ST_Surface or ST_MultiSurface geometry or geography. (Polygon, Multipolygon).\n",
    "        # use ST_Length for linestrings\n",
    "    \n",
    "    boolean ST_Touches(geometry g1, geometry g2);\n",
    "    \n",
    "    boolean ST_Within(geometry A, geometry B);\n",
    "        TRUE if geometry A is completely inside geometry B.\n",
    "\n",
    "    geometry ST_Extrude(geometry geom, float x, float y, float z);"
   ]
  },
  {
   "cell_type": "markdown",
   "metadata": {},
   "source": [
    "## Geometry Processing"
   ]
  },
  {
   "cell_type": "code",
   "execution_count": null,
   "metadata": {
    "collapsed": true
   },
   "outputs": [],
   "source": [
    "    geometry ST_Buffer(geometry g1, float radius_of_buffer);\n",
    "    geometry ST_Buffer(geometry g1, float radius_of_buffer, integer num_seg_quarter_circle); \n",
    "    geometry ST_Buffer(geometry g1, float radius_of_buffer, text buffer_style_parameters);\n",
    "        #buffer_style options: quad_segs=#,endcap=round|flat|square,join=round|mitre|bevel,mitre_limit=#.#\n",
    "    \n",
    "    geometry ST_BuildArea(geometry A);\n",
    "    \n",
    "    geometry ST_Collect(geometry set g1field); \n",
    "    geometry ST_Collect(geometry g1, geometry g2); \n",
    "    geometry ST_Collect(geometry[] g1_array);\n",
    "    \n",
    "        SELECT stusps,\n",
    "             ST_Multi(ST_Collect(f.the_geom)) as singlegeom\n",
    "           FROM (SELECT stusps, (ST_Dump(the_geom)).geom As the_geom\n",
    "            FROM\n",
    "            somestatetable ) As f\n",
    "        GROUP BY stusps\n",
    "    \n",
    "    geometry ST_ConvexHull(geometry geomA);\n",
    "        # minimum convex geometry that encloses all geometries within the set.\n",
    "    \n",
    "    geometry ST_Difference(geometry geomA, geometry geomB);\n",
    "    \n",
    "    geometry ST_Intersection( geometry geomA , geometry geomB );\n",
    "    \n",
    "    geometry ST_MakeValid(geometry input);\n",
    "    \n",
    "    geometry ST_MinimumBoundingCircle(geometry geomA, integer num_segs_per_qt_circ=48);\n",
    "    \n",
    "    geometry ST_Polygonize(geometry set geomfield); geometry ST_Polygonize(geometry[] geom_array);\n",
    "    \n",
    "    geometry ST_RemoveRepeatedPoints(geometry geom);\n",
    "    \n",
    "--    geometry ST_SharedPaths(geometry lineal1, geometry lineal2);*\n",
    "\n",
    "    geometry ST_UnaryUnion(geometry geom);"
   ]
  }
 ],
 "metadata": {
  "kernelspec": {
   "display_name": "IPython (Python 2)",
   "language": "python",
   "name": "python2"
  },
  "language_info": {
   "codemirror_mode": {
    "name": "ipython",
    "version": 2
   },
   "file_extension": ".py",
   "mimetype": "text/x-python",
   "name": "python",
   "nbconvert_exporter": "python",
   "pygments_lexer": "ipython2",
   "version": "2.7.9"
  }
 },
 "nbformat": 4,
 "nbformat_minor": 0
}
