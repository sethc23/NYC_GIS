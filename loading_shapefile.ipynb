{
 "cells": [
  {
   "cell_type": "markdown",
   "metadata": {},
   "source": [
    "# Finding and Loading a Shapefile\n",
    "---"
   ]
  },
  {
   "cell_type": "markdown",
   "metadata": {},
   "source": [
    "## Libraries & Functions"
   ]
  },
  {
   "cell_type": "code",
   "execution_count": 1,
   "metadata": {
    "code_folding": [
     9,
     30,
     39,
     43
    ],
    "collapsed": false,
    "run_control": {
     "read_only": false
    }
   },
   "outputs": [],
   "source": [
    "import os\n",
    "import requests\n",
    "from f_postgres import pgSQL\n",
    "PG = pgSQL()\n",
    "T = PG.T\n",
    "T.Addr_Parsing(T)\n",
    "T.requests = requests\n",
    "\n",
    "def download_file(url,save_path):\n",
    "    \n",
    "    _dir = save_path[:save_path.rfind('/')]\n",
    "    if not os.path.exists(_dir):\n",
    "        os.makedirs(_dir)\n",
    "        \n",
    "    with open(save_path, 'wb') as handle:\n",
    "        response = requests.get(url, stream=True)\n",
    "\n",
    "        if not response.ok:\n",
    "            # Something went wrong\n",
    "            print 'error'\n",
    "\n",
    "        for block in response.iter_content(1024):\n",
    "            if not block:\n",
    "                break\n",
    "\n",
    "            handle.write(block)\n",
    "            handle.flush()\n",
    "    return True\n",
    "\n",
    "def read_json_from_url_response(url):\n",
    "    r = requests.get(url)\n",
    "    # print r.status_code\n",
    "    # print r.text\n",
    "    g = r.text\n",
    "    g = g.replace('true',\"'true'\")\n",
    "    a = eval(g)\n",
    "    return a\n",
    "\n",
    "def to_sql(cmd):\n",
    "    T.conn.set_isolation_level(0)\n",
    "    T.cur.execute(cmd)\n",
    "\n",
    "def custom_geoseries_plot(s):\n",
    "    # s=T.gd.GeoSeries(A)\n",
    "    colormap='Set1'\n",
    "    axes=None\n",
    "    linewidth=1.0\n",
    "    figsize=(8,8)\n",
    "\n",
    "    import matplotlib.pyplot as plt\n",
    "    if axes is None:\n",
    "        fig, ax = plt.subplots(figsize=figsize)\n",
    "        ax.set_aspect('equal')\n",
    "    else:\n",
    "        ax = axes\n",
    "    ax.get_xaxis().get_major_formatter().set_scientific(False)\n",
    "    ax.get_xaxis().get_major_formatter().set_useOffset(False)\n",
    "    plt.xticks(rotation='vertical')\n",
    "    ax.get_yaxis().get_major_formatter().set_scientific(False)\n",
    "    ax.get_yaxis().get_major_formatter().set_useOffset(False)\n",
    "    color = T.gd.plotting.gencolor(len(s), colormap=colormap)\n",
    "    for geom in s:\n",
    "        if geom.type == 'Polygon' or geom.type == 'MultiPolygon':\n",
    "            T.gd.plotting.plot_multipolygon(ax, geom, facecolor=next(color), linewidth=linewidth)\n",
    "        elif geom.type == 'LineString' or geom.type == 'MultiLineString':\n",
    "            T.gd.plotting.plot_multilinestring(ax, geom, color=next(color), linewidth=linewidth)\n",
    "        elif geom.type == 'Point':\n",
    "            T.gd.plotting.plot_point(ax, geom)\n",
    "    plt.ticklabel_format(style='plain')\n",
    "    plt.grid()\n",
    "    plt.draw()\n",
    "    \n",
    "\n",
    "%reload_ext sql\n",
    "%sql postgresql://$T.DB_USER:$T.DB_PW@$T.DB_HOST:$T.DB_PORT/$T.DB_NAME\n",
    "%config SqlMagic.feedback=True\n",
    "%config SqlMagic.autopandas=True\n",
    "%config SqlMagic.short_errors=False"
   ]
  },
  {
   "cell_type": "markdown",
   "metadata": {},
   "source": [
    "## Check and review shape files from [NYC Apple Bytes](http://www.nyc.gov/html/dcp/html/bytes/applbyte.shtml#geocoding_application)"
   ]
  },
  {
   "cell_type": "code",
   "execution_count": 2,
   "metadata": {
    "code_folding": [
     0
    ],
    "collapsed": false
   },
   "outputs": [
    {
     "data": {
      "text/html": [
       "<div>\n",
       "<table border=\"1\" class=\"dataframe\">\n",
       "  <thead>\n",
       "    <tr style=\"text-align: left;\">\n",
       "      <th></th>\n",
       "      <th>Data_Set</th>\n",
       "      <th>Date</th>\n",
       "      <th>link</th>\n",
       "      <th>file_type</th>\n",
       "    </tr>\n",
       "  </thead>\n",
       "  <tbody>\n",
       "    <tr>\n",
       "      <th>10</th>\n",
       "      <td>MapPLUTOTM</td>\n",
       "      <td>March 2015- June 2015</td>\n",
       "      <td>http://www.nyc.gov/html/dcp/download/bytes/nyc_pluto_15v1.zip</td>\n",
       "      <td>zip</td>\n",
       "    </tr>\n",
       "    <tr>\n",
       "      <th>12</th>\n",
       "      <td>MapPLUTOTM</td>\n",
       "      <td>March 2015- June 2015</td>\n",
       "      <td>http://www.nyc.gov/html/dcp/download/bytes/bx_mappluto_15v1.zip</td>\n",
       "      <td>zip</td>\n",
       "    </tr>\n",
       "    <tr>\n",
       "      <th>14</th>\n",
       "      <td>MapPLUTOTM</td>\n",
       "      <td>March 2015- June 2015</td>\n",
       "      <td>http://www.nyc.gov/html/dcp/download/bytes/bk_mappluto_15v1.zip</td>\n",
       "      <td>zip</td>\n",
       "    </tr>\n",
       "    <tr>\n",
       "      <th>15</th>\n",
       "      <td>MapPLUTOTM</td>\n",
       "      <td>March 2015- June 2015</td>\n",
       "      <td>http://www.nyc.gov/html/dcp/download/bytes/mn_mappluto_15v1.zip</td>\n",
       "      <td>zip</td>\n",
       "    </tr>\n",
       "    <tr>\n",
       "      <th>16</th>\n",
       "      <td>MapPLUTOTM</td>\n",
       "      <td>March 2015- June 2015</td>\n",
       "      <td>http://www.nyc.gov/html/dcp/download/bytes/qn_mappluto_15v1.zip</td>\n",
       "      <td>zip</td>\n",
       "    </tr>\n",
       "    <tr>\n",
       "      <th>17</th>\n",
       "      <td>MapPLUTOTM</td>\n",
       "      <td>March 2015- June 2015</td>\n",
       "      <td>http://www.nyc.gov/html/dcp/download/bytes/si_mappluto_15v1.zip</td>\n",
       "      <td>zip</td>\n",
       "    </tr>\n",
       "  </tbody>\n",
       "</table>\n",
       "</div>"
      ],
      "text/plain": [
       "   Data_Set    Date                   link                                                             file_type\n",
       "10  MapPLUTOTM  March 2015- June 2015    http://www.nyc.gov/html/dcp/download/bytes/nyc_pluto_15v1.zip  zip     \n",
       "12  MapPLUTOTM  March 2015- June 2015  http://www.nyc.gov/html/dcp/download/bytes/bx_mappluto_15v1.zip  zip     \n",
       "14  MapPLUTOTM  March 2015- June 2015  http://www.nyc.gov/html/dcp/download/bytes/bk_mappluto_15v1.zip  zip     \n",
       "15  MapPLUTOTM  March 2015- June 2015  http://www.nyc.gov/html/dcp/download/bytes/mn_mappluto_15v1.zip  zip     \n",
       "16  MapPLUTOTM  March 2015- June 2015  http://www.nyc.gov/html/dcp/download/bytes/qn_mappluto_15v1.zip  zip     \n",
       "17  MapPLUTOTM  March 2015- June 2015  http://www.nyc.gov/html/dcp/download/bytes/si_mappluto_15v1.zip  zip     "
      ]
     },
     "execution_count": 2,
     "metadata": {},
     "output_type": "execute_result"
    }
   ],
   "source": [
    "from f_nyc_data import NYC_Data\n",
    "ND = NYC_Data()\n",
    "df = ND.get_latest_links_from_nyc_bytes()\n",
    "\n",
    "import re\n",
    "shape_files = df[(df.Data_Set.str.contains('mappluto',flags=re.I)) & (df.file_type=='zip')]\n",
    "shape_files"
   ]
  },
  {
   "cell_type": "code",
   "execution_count": 3,
   "metadata": {
    "collapsed": false,
    "scrolled": true
   },
   "outputs": [
    {
     "name": "stdout",
     "output_type": "stream",
     "text": [
      "Extracted: Manhattan/MN_Dcp_Mappinglot.dbf\n",
      "Extracted: Manhattan/MN_Dcp_Mappinglot.prj\n",
      "Extracted: Manhattan/MN_Dcp_Mappinglot.sbn\n",
      "Extracted: Manhattan/MN_Dcp_Mappinglot.sbx\n",
      "Extracted: Manhattan/MN_Dcp_Mappinglot.shp\n",
      "Extracted: Manhattan/MN_Dcp_Mappinglot.shp.xml\n",
      "Extracted: Manhattan/MN_Dcp_Mappinglot.shx\n",
      "Extracted: Manhattan/mn_pluto.dbf\n",
      "Extracted: Manhattan/mn_pluto.dbf.xml\n",
      "Extracted: Manhattan/MNMapPLUTO.BBL.atx\n",
      "Extracted: Manhattan/MNMapPLUTO.CD.atx\n",
      "Extracted: Manhattan/MNMapPLUTO.dbf\n",
      "Extracted: Manhattan/MNMapPLUTO.LandUse.atx\n",
      "Extracted: Manhattan/MNMapPLUTO.prj\n",
      "Extracted: Manhattan/MNMapPLUTO.sbn\n",
      "Extracted: Manhattan/MNMapPLUTO.sbx\n",
      "Extracted: Manhattan/MNMapPLUTO.shp\n",
      "Extracted: Manhattan/MNMapPLUTO.shp.xml\n",
      "Extracted: Manhattan/MNMapPLUTO.shx\n",
      "Extracted: Manhattan/MNMapPLUTO.ZoneDist1.atx\n",
      "Extracted: Manhattan/PLUTODD15v1.pdf\n"
     ]
    }
   ],
   "source": [
    "# Download and extract manhattan shape files\n",
    "\n",
    "link = shape_files[shape_files.link.str.contains('mn_')].link.iloc[0]\n",
    "\n",
    "save_dir = 'NYC_data/'\n",
    "save_path = save_dir + '2015.06.01_mn_shape_file.zip'\n",
    "assert download_file(link, save_path)==True\n",
    "\n",
    "import zipfile\n",
    "z = zipfile.ZipFile(save_path)\n",
    "z.extractall()\n",
    "for it in z.filelist:\n",
    "    print 'Extracted:',it.filename"
   ]
  },
  {
   "cell_type": "code",
   "execution_count": 4,
   "metadata": {
    "collapsed": false
   },
   "outputs": [
    {
     "data": {
      "text/html": [
       "<div>\n",
       "<table border=\"1\" class=\"dataframe\">\n",
       "  <thead>\n",
       "    <tr style=\"text-align: left;\">\n",
       "      <th></th>\n",
       "      <th>Data_Set</th>\n",
       "      <th>Date</th>\n",
       "      <th>link</th>\n",
       "      <th>file_type</th>\n",
       "    </tr>\n",
       "  </thead>\n",
       "  <tbody>\n",
       "    <tr>\n",
       "      <th>11</th>\n",
       "      <td>MapPLUTOTM</td>\n",
       "      <td>March 2015- June 2015</td>\n",
       "      <td>http://www.nyc.gov/html/dcp/pdf/bytes/pluto_datadictionary.pdf?r=2</td>\n",
       "      <td>pdf</td>\n",
       "    </tr>\n",
       "    <tr>\n",
       "      <th>13</th>\n",
       "      <td>MapPLUTOTM</td>\n",
       "      <td>March 2015- June 2015</td>\n",
       "      <td>http://www.nyc.gov/html/dcp/pdf/bytes/meta_mappluto.pdf?r=2</td>\n",
       "      <td>pdf</td>\n",
       "    </tr>\n",
       "    <tr>\n",
       "      <th>18</th>\n",
       "      <td>MapPLUTOTM</td>\n",
       "      <td>March 2015- June 2015</td>\n",
       "      <td>http://www.nyc.gov/html/dcp/pdf/bytes/meta_mappluto.pdf?r=1</td>\n",
       "      <td>pdf</td>\n",
       "    </tr>\n",
       "  </tbody>\n",
       "</table>\n",
       "</div>"
      ],
      "text/plain": [
       "   Data_Set    Date                   link                                                                file_type\n",
       "11  MapPLUTOTM  March 2015- June 2015  http://www.nyc.gov/html/dcp/pdf/bytes/pluto_datadictionary.pdf?r=2  pdf     \n",
       "13  MapPLUTOTM  March 2015- June 2015         http://www.nyc.gov/html/dcp/pdf/bytes/meta_mappluto.pdf?r=2  pdf     \n",
       "18  MapPLUTOTM  March 2015- June 2015         http://www.nyc.gov/html/dcp/pdf/bytes/meta_mappluto.pdf?r=1  pdf     "
      ]
     },
     "execution_count": 4,
     "metadata": {},
     "output_type": "execute_result"
    }
   ],
   "source": [
    "# Determine source SRID -- Check help file with shape file\n",
    "\n",
    "df[(df.Data_Set.str.contains('mappluto',flags=re.I)) & (df.file_type=='pdf')]"
   ]
  },
  {
   "cell_type": "code",
   "execution_count": 5,
   "metadata": {
    "collapsed": false
   },
   "outputs": [
    {
     "name": "stdout",
     "output_type": "stream",
     "text": [
      "\r\n",
      "[\"NAD_1983_StatePlane_New_York_Long_Island_FIPS_3104_Feet\",GEOGCS\r\n",
      "[\"GCS_North_American_1983\",DATUM[\"D_North_American_1983\",SPHEROID\r\n",
      "[\"GRS_1980\",6378137.0,298.257222101]],PRIMEM[\"Greenwich\",0.0],UNIT\r\n",
      "[\"Degree\",0.0174532925199433]],PROJECTION[\"Lambert_Conformal_Conic\"],PARAMETER\r\n",
      "[\"False_Easting\",984250.0],PARAMETER[\"False_Northing\",0.0],PARAMETER\r\n",
      "[\"Central_Meridian\",-74.0],PARAMETER\r\n",
      "[\"Standard_Parallel_1\",40.66666666666666],PARAMETER\r\n",
      "[\"Standard_Parallel_2\",41.03333333333333],PARAMETER\r\n",
      "[\"Latitude_Of_Origin\",40.16666666666666],UNIT\r\n",
      "[\"Foot_US\",0.3048006096012192],AUTHORITY[\"\u001b[01;31m\u001b[KEPSG\u001b[m\u001b[K\",2263]]\r\n",
      "REFERENCE SYSTEM IDENTIFIER\r\n",
      "VALUE 2263\r\n",
      "CODESPACE \u001b[01;31m\u001b[KEPSG\u001b[m\u001b[K\r\n",
      "VERSION 7.11.2\r\n",
      "Hide Spatial Reference ▲\r\n",
      "\r\n",
      "Spatial Data Properties ►\r\n",
      "ARCGIS FEATURE CLASS PROPERTIES\r\n",
      "►\r\n",
      "FEATURE CLASS NAME MapPLUTO\r\n",
      "* FEATURE TYPE Simple\r\n",
      "* GEOMETRY TYPE Polygon\r\n",
      "* HAS TOPOLOGY FALSE\r\n"
     ]
    }
   ],
   "source": [
    "info_link =  df[(df.Data_Set.str.contains('mappluto',flags=re.I)) & \n",
    "                (df.link.str.contains('meta_mappluto.pdf'))].link.iloc[0]\n",
    "pdf_path = save_dir + 'pluto_info.pdf'\n",
    "assert download_file(info_link, pdf_path)\n",
    "\n",
    "!pdftotext $pdf_path - | grep -B 10 -A 10 -i 'epsg'"
   ]
  },
  {
   "cell_type": "markdown",
   "metadata": {},
   "source": [
    "## Load data into database"
   ]
  },
  {
   "cell_type": "code",
   "execution_count": 6,
   "metadata": {
    "collapsed": false
   },
   "outputs": [
    {
     "name": "stdout",
     "output_type": "stream",
     "text": [
      "root password?\t········\n",
      "Shapefile type: Polygon\n",
      "Postgis type: MULTIPOLYGON[2]\n"
     ]
    }
   ],
   "source": [
    "# The help file indicates that the shape file was created using SRID '2263'\n",
    "# Reproject onto EPSG:4326 if matching GPS coordinates between shapefile and Google Maps is important\n",
    "\n",
    "import getpass\n",
    "# Convert shape file to sql load file\n",
    "sql_file = save_dir + 'mn_pluto.sql'\n",
    "log_f = save_dir + 'shp_import.log'\n",
    "pw = getpass.getpass('root password?\\t')\n",
    "\n",
    "# Pick title for table\n",
    "tbl_name = 'mn_pluto'\n",
    "\n",
    "# Might need to disable event trigger\n",
    "!echo \"ALTER EVENT TRIGGER missing_primary_key_trigger DISABLE;\" > $sql_file\n",
    "!shp2pgsql -s 2263:4326 Manhattan/MNMapPLUTO.shp $tbl_name >> $sql_file\n",
    "!echo \"ALTER EVENT TRIGGER missing_primary_key_trigger ENABLE;\" >> $sql_file\n",
    "\n",
    "!echo \"$pw\" | sudo -S --prompt='' su postgres -c \"psql -h $T.DB_HOST -p $T.DB_PORT $T.DB_NAME < $sql_file\" > $log_f"
   ]
  },
  {
   "cell_type": "markdown",
   "metadata": {},
   "source": [
    "## Quick Check:  Find Herald Square and Compare with Google Maps"
   ]
  },
  {
   "cell_type": "code",
   "execution_count": 7,
   "metadata": {
    "collapsed": false,
    "scrolled": false
   },
   "outputs": [
    {
     "name": "stdout",
     "output_type": "stream",
     "text": [
      "1 rows affected.\n"
     ]
    },
    {
     "data": {
      "text/html": [
       "<div>\n",
       "<table border=\"1\" class=\"dataframe\">\n",
       "  <thead>\n",
       "    <tr style=\"text-align: left;\">\n",
       "      <th></th>\n",
       "      <th>gid</th>\n",
       "      <th>borough</th>\n",
       "      <th>block</th>\n",
       "      <th>lot</th>\n",
       "      <th>cd</th>\n",
       "      <th>ct2010</th>\n",
       "      <th>cb2010</th>\n",
       "      <th>schooldist</th>\n",
       "      <th>council</th>\n",
       "      <th>zipcode</th>\n",
       "      <th>firecomp</th>\n",
       "      <th>policeprct</th>\n",
       "      <th>healtharea</th>\n",
       "      <th>address</th>\n",
       "      <th>zonedist1</th>\n",
       "      <th>zonedist2</th>\n",
       "      <th>zonedist3</th>\n",
       "      <th>zonedist4</th>\n",
       "      <th>overlay1</th>\n",
       "      <th>overlay2</th>\n",
       "      <th>spdist1</th>\n",
       "      <th>spdist2</th>\n",
       "      <th>ltdheight</th>\n",
       "      <th>allzoning1</th>\n",
       "      <th>allzoning2</th>\n",
       "      <th>splitzone</th>\n",
       "      <th>bldgclass</th>\n",
       "      <th>landuse</th>\n",
       "      <th>easements</th>\n",
       "      <th>ownertype</th>\n",
       "      <th>ownername</th>\n",
       "      <th>lotarea</th>\n",
       "      <th>bldgarea</th>\n",
       "      <th>comarea</th>\n",
       "      <th>resarea</th>\n",
       "      <th>officearea</th>\n",
       "      <th>retailarea</th>\n",
       "      <th>garagearea</th>\n",
       "      <th>strgearea</th>\n",
       "      <th>factryarea</th>\n",
       "      <th>otherarea</th>\n",
       "      <th>areasource</th>\n",
       "      <th>numbldgs</th>\n",
       "      <th>numfloors</th>\n",
       "      <th>unitsres</th>\n",
       "      <th>unitstotal</th>\n",
       "      <th>lotfront</th>\n",
       "      <th>lotdepth</th>\n",
       "      <th>bldgfront</th>\n",
       "      <th>bldgdepth</th>\n",
       "      <th>ext</th>\n",
       "      <th>proxcode</th>\n",
       "      <th>irrlotcode</th>\n",
       "      <th>lottype</th>\n",
       "      <th>bsmtcode</th>\n",
       "      <th>assessland</th>\n",
       "      <th>assesstot</th>\n",
       "      <th>exemptland</th>\n",
       "      <th>exempttot</th>\n",
       "      <th>yearbuilt</th>\n",
       "      <th>builtcode</th>\n",
       "      <th>yearalter1</th>\n",
       "      <th>yearalter2</th>\n",
       "      <th>histdist</th>\n",
       "      <th>landmark</th>\n",
       "      <th>builtfar</th>\n",
       "      <th>residfar</th>\n",
       "      <th>commfar</th>\n",
       "      <th>facilfar</th>\n",
       "      <th>borocode</th>\n",
       "      <th>bbl</th>\n",
       "      <th>condono</th>\n",
       "      <th>tract2010</th>\n",
       "      <th>xcoord</th>\n",
       "      <th>ycoord</th>\n",
       "      <th>zonemap</th>\n",
       "      <th>zmcode</th>\n",
       "      <th>sanborn</th>\n",
       "      <th>taxmap</th>\n",
       "      <th>edesignum</th>\n",
       "      <th>appbbl</th>\n",
       "      <th>appdate</th>\n",
       "      <th>plutomapid</th>\n",
       "      <th>version</th>\n",
       "      <th>mappluto_f</th>\n",
       "      <th>shape_leng</th>\n",
       "      <th>shape_area</th>\n",
       "      <th>geom</th>\n",
       "      <th>concat_cols</th>\n",
       "    </tr>\n",
       "  </thead>\n",
       "  <tbody>\n",
       "    <tr>\n",
       "      <th>0</th>\n",
       "      <td>5723</td>\n",
       "      <td>MN</td>\n",
       "      <td>810</td>\n",
       "      <td>45</td>\n",
       "      <td>105</td>\n",
       "      <td>109</td>\n",
       "      <td>1011</td>\n",
       "      <td>02</td>\n",
       "      <td>4</td>\n",
       "      <td>10001</td>\n",
       "      <td>E026</td>\n",
       "      <td>14</td>\n",
       "      <td>5200</td>\n",
       "      <td>1 HERALD SQUARE</td>\n",
       "      <td>PARK</td>\n",
       "      <td>None</td>\n",
       "      <td>None</td>\n",
       "      <td>None</td>\n",
       "      <td>None</td>\n",
       "      <td>None</td>\n",
       "      <td>None</td>\n",
       "      <td>None</td>\n",
       "      <td>None</td>\n",
       "      <td>PARK</td>\n",
       "      <td>None</td>\n",
       "      <td>N</td>\n",
       "      <td>Q1</td>\n",
       "      <td>09</td>\n",
       "      <td>0</td>\n",
       "      <td>C</td>\n",
       "      <td>PARKS AND RECREATION</td>\n",
       "      <td>8612</td>\n",
       "      <td>0</td>\n",
       "      <td>0</td>\n",
       "      <td>0</td>\n",
       "      <td>0</td>\n",
       "      <td>0</td>\n",
       "      <td>0</td>\n",
       "      <td>0</td>\n",
       "      <td>0</td>\n",
       "      <td>0</td>\n",
       "      <td>7</td>\n",
       "      <td>1</td>\n",
       "      <td>0E-11</td>\n",
       "      <td>0</td>\n",
       "      <td>0</td>\n",
       "      <td>28.2500000000</td>\n",
       "      <td>207.750000000</td>\n",
       "      <td>0E-11</td>\n",
       "      <td>0E-11</td>\n",
       "      <td>None</td>\n",
       "      <td>0</td>\n",
       "      <td>Y</td>\n",
       "      <td>3</td>\n",
       "      <td>5</td>\n",
       "      <td>2452500.00000</td>\n",
       "      <td>2747700.00000</td>\n",
       "      <td>2452500.00000</td>\n",
       "      <td>2747700.00000</td>\n",
       "      <td>0</td>\n",
       "      <td>None</td>\n",
       "      <td>0</td>\n",
       "      <td>0</td>\n",
       "      <td>None</td>\n",
       "      <td>None</td>\n",
       "      <td>0E-11</td>\n",
       "      <td>0E-11</td>\n",
       "      <td>0E-11</td>\n",
       "      <td>0E-11</td>\n",
       "      <td>1</td>\n",
       "      <td>1008100045.00</td>\n",
       "      <td>0</td>\n",
       "      <td>0109</td>\n",
       "      <td>987672</td>\n",
       "      <td>212628</td>\n",
       "      <td>8d</td>\n",
       "      <td>None</td>\n",
       "      <td>105N035</td>\n",
       "      <td>10305</td>\n",
       "      <td>None</td>\n",
       "      <td>0E-11</td>\n",
       "      <td>None</td>\n",
       "      <td>1</td>\n",
       "      <td>15v1</td>\n",
       "      <td>0</td>\n",
       "      <td>523.994927473</td>\n",
       "      <td>9114.78340059</td>\n",
       "      <td>0106000020E6100000010000000103000000010000004D0000001115DC69387F52C05C6C09DDFC5F4440BC3CC66D387F52C0B657EDDCFC5F4440A7E1BF71387F52C0601E54DDFC5F44404DE3AD75387F52C01C913CDEFC5F444092347F79387F52C03A81A5DFFC5F444045880B7D387F52C0726B7EE1FC5F4440BB...</td>\n",
       "      <td>(5723 MN 810 45 105 109 1011 02 4 10001 E026 14 5200 \"1 HERALD SQUARE\" PARK         PARK  N Q1 09 0 C \"PARKS AND RECREATION\" 8612 0 0 0 0 0 0 0 0 0 7 1 0.00000000000 0 0 28.2500000000 207.750000000 0.00000000000 0.00000000000  0 Y 3 5 2452500.000...</td>\n",
       "    </tr>\n",
       "  </tbody>\n",
       "</table>\n",
       "</div>"
      ],
      "text/plain": [
       "   gid  borough  block  lot  cd  ct2010 cb2010 schooldist  council  zipcode firecomp  policeprct  healtharea address          zonedist1 zonedist2 zonedist3 zonedist4 overlay1 overlay2 spdist1 spdist2 ltdheight allzoning1 allzoning2 splitzone bldgclass landuse  easements ownertype ownername              lotarea  bldgarea  comarea  resarea  officearea  retailarea  garagearea  strgearea  factryarea  otherarea areasource  numbldgs numfloors  unitsres  unitstotal lotfront       lotdepth       bldgfront bldgdepth ext   proxcode irrlotcode lottype bsmtcode assessland     assesstot      exemptland     exempttot       yearbuilt builtcode  yearalter1  yearalter2 histdist landmark builtfar residfar commfar facilfar  borocode bbl             condono tract2010  xcoord  ycoord zonemap zmcode sanborn  taxmap edesignum appbbl appdate plutomapid version  mappluto_f shape_leng     shape_area     geom                                                                                                                                                                                                                                                       concat_cols                                                                                                                                                                                                                                               \n",
       "0  5723  MN      810    45   105  109    1011   02         4        10001    E026     14          5200        1 HERALD SQUARE  PARK      None      None      None      None     None     None    None    None      PARK       None       N         Q1        09      0          C         PARKS AND RECREATION  8612     0         0        0        0           0           0           0          0           0          7          1         0E-11     0         0           28.2500000000  207.750000000  0E-11     0E-11     None  0        Y          3       5        2452500.00000  2747700.00000  2452500.00000  2747700.00000  0          None      0           0           None     None     0E-11    0E-11    0E-11   0E-11    1         1008100045.00  0        0109      987672  212628  8d      None   105N035  10305  None      0E-11  None    1          15v1    0           523.994927473  9114.78340059  0106000020E6100000010000000103000000010000004D0000001115DC69387F52C05C6C09DDFC5F4440BC3CC66D387F52C0B657EDDCFC5F4440A7E1BF71387F52C0601E54DDFC5F44404DE3AD75387F52C01C913CDEFC5F444092347F79387F52C03A81A5DFFC5F444045880B7D387F52C0726B7EE1FC5F4440BB...  (5723 MN 810 45 105 109 1011 02 4 10001 E026 14 5200 \"1 HERALD SQUARE\" PARK         PARK  N Q1 09 0 C \"PARKS AND RECREATION\" 8612 0 0 0 0 0 0 0 0 0 7 1 0.00000000000 0 0 28.2500000000 207.750000000 0.00000000000 0.00000000000  0 Y 3 5 2452500.000..."
      ]
     },
     "execution_count": 7,
     "metadata": {},
     "output_type": "execute_result"
    }
   ],
   "source": [
    "# Query all content (by concatenating columns), do open-ended search \n",
    "\n",
    "qry=\"\"\"\n",
    "select * from\n",
    "( select *,regexp_replace(r::text,','::text,' '::text,'g') concat_cols from %s AS r ) f\n",
    "where concat_cols ilike '%%%%herald%%%%' and concat_cols ilike '%%%%park%%%%'\n",
    "\"\"\" % tbl_name\n",
    "%sql postgres@$T.DB_NAME $qry"
   ]
  },
  {
   "cell_type": "code",
   "execution_count": 8,
   "metadata": {
    "collapsed": false
   },
   "outputs": [
    {
     "name": "stdout",
     "output_type": "stream",
     "text": [
      "\n",
      "Centroid Located at (-73.987646604,40.7502929962)\n",
      "\n"
     ]
    },
    {
     "data": {
      "image/png": "[encoded data removed]",
      "text/plain": [
       "<matplotlib.figure.Figure at 0x7f9fe2ccf610>"
      ]
     },
     "metadata": {},
     "output_type": "display_data"
    }
   ],
   "source": [
    "# Plot geographic figures and compare with google\n",
    "\n",
    "%matplotlib inline\n",
    "A = []\n",
    "\n",
    "outline = T.gd.read_postgis(\"\"\"SELECT ST_Buffer(ST_ConvexHull((ST_Collect(f.the_geom))), .0005) as geom \n",
    "                    FROM ( SELECT *, (ST_Dump(geom)).geom as the_geom \n",
    "                    FROM %s where address = '1 HERALD SQUARE' ) As f\"\"\" % tbl_name, T.eng)\n",
    "A.extend(outline.geom)\n",
    "\n",
    "touching_geoms =   \"\"\"\n",
    "        select st_intersection(geom,outline_geom) geom \n",
    "        from \n",
    "            %s,\n",
    "            (select ST_GeomFromEWKT('SRID=4326;%s') outline_geom) as t\n",
    "        where geom is not null\"\"\".replace('\\n',' ') % (tbl_name,str(outline.geom[0]))\n",
    "A.extend(T.gd.read_postgis(touching_geoms,T.eng).geom)\n",
    "\n",
    "centroid = T.gd.read_postgis(\"\"\" SELECT st_centroid(geom) geom \n",
    "                                 FROM %s where address = '1 HERALD SQUARE' \n",
    "                             \"\"\" % tbl_name, T.eng)\n",
    "A.extend(centroid.geom)\n",
    "\n",
    "XY = tuple(centroid.bounds.iloc[0][:2])\n",
    "print '\\nCentroid Located at (%s,%s)\\n' % XY\n",
    "\n",
    "# Typically a command like \"T.gd.GeoSeries(A).plot()\" works well enough\n",
    "custom_geoseries_plot(T.gd.GeoSeries(A))"
   ]
  },
  {
   "cell_type": "markdown",
   "metadata": {},
   "source": [
    "## End Notes\n",
    "\n",
    "Compare with [Google Maps](https://www.google.com/maps/place/Herald+Square+NYC).  Coordinates are available by:  \n",
    "\n",
    "    Right Click -> What's Here\n",
    "A [cheatsheet for postGIS](http://www.postgis.us/downloads/postgis21_cheatsheet.pdf) may be handy.\n",
    "\n",
    "In this instance, the data was loaded into pgSQL as a base layer on which to integrate more data. \n",
    "But, just loading and analyzing shapefiles can be done without pgSQL ([see an exampleii here](https://github.com/geopandas/geopandas#examples))."
   ]
  }
 ],
 "metadata": {
  "kernelspec": {
   "display_name": "IPython (Python 2)",
   "language": "python",
   "name": "python2"
  },
  "language_info": {
   "codemirror_mode": {
    "name": "ipython",
    "version": 2
   },
   "file_extension": ".py",
   "mimetype": "text/x-python",
   "name": "python",
   "nbconvert_exporter": "python",
   "pygments_lexer": "ipython2",
   "version": "2.7.9"
  }
 },
 "nbformat": 4,
 "nbformat_minor": 0
}
